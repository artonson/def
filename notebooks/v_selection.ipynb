{
 "cells": [
  {
   "cell_type": "raw",
   "metadata": {},
   "source": []
  },
  {
   "cell_type": "code",
   "execution_count": 1,
   "metadata": {},
   "outputs": [],
   "source": [
    "import h5py\n",
    "import numpy as np\n",
    "from glob import glob\n",
    "from tqdm import tqdm\n",
    "import torch\n",
    "from sklearn.metrics import balanced_accuracy_score, jaccard_score"
   ]
  },
  {
   "cell_type": "code",
   "execution_count": 56,
   "metadata": {},
   "outputs": [],
   "source": [
    "addrs = np.sort(glob('voronoi/v2/med_res/points/*.hdf5'))"
   ]
  },
  {
   "cell_type": "code",
   "execution_count": 57,
   "metadata": {
    "scrolled": true
   },
   "outputs": [
    {
     "data": {
      "text/plain": [
       "891"
      ]
     },
     "execution_count": 57,
     "metadata": {},
     "output_type": "execute_result"
    }
   ],
   "source": [
    "len(addrs)"
   ]
  },
  {
   "cell_type": "code",
   "execution_count": 58,
   "metadata": {
    "scrolled": true
   },
   "outputs": [
    {
     "name": "stderr",
     "output_type": "stream",
     "text": [
      "100%|██████████| 891/891 [07:26<00:00,  2.00it/s]\n"
     ]
    }
   ],
   "source": [
    "with h5py.File('/gpfs/gpfs0/3ddl/sharp_features/data_v2_cvpr/points/med_res.json/0.0/train/train_0.hdf5', 'r') as f:\n",
    "#     d = torch.flatten(torch.from_numpy(f['distances'][:]), start_dim=1).numpy()[:100]\n",
    "#     p = f['points'][:100]\n",
    "    d = f['distances'][:100]\n",
    "# d.shape\n",
    "thr_d = np.zeros_like(d)\n",
    "thr_d[d < 0.05] = 1\n",
    "\n",
    "ba = []\n",
    "iou = []\n",
    "for addr in tqdm(addrs):\n",
    "    with h5py.File(addr, 'r') as f:\n",
    "        v = f['distances'][:]\n",
    "    ba_small = []\n",
    "    iou_small = []\n",
    "    for i in range(len(v)):\n",
    "        ba_small.append(balanced_accuracy_score(thr_d[i], v[i]))\n",
    "        iou_small.append(jaccard_score(thr_d[i], v[i]))\n",
    "    ba.append(ba_small)\n",
    "    iou.append(iou_small)"
   ]
  },
  {
   "cell_type": "code",
   "execution_count": 59,
   "metadata": {},
   "outputs": [
    {
     "data": {
      "text/plain": [
       "'voronoi/v2/med_res/points/0.1_0.2_0.3.hdf5'"
      ]
     },
     "execution_count": 59,
     "metadata": {},
     "output_type": "execute_result"
    }
   ],
   "source": [
    "addrs[np.array(ba).mean(-1).argmax()]"
   ]
  },
  {
   "cell_type": "code",
   "execution_count": 60,
   "metadata": {},
   "outputs": [
    {
     "data": {
      "text/plain": [
       "0.9238490784572491"
      ]
     },
     "execution_count": 60,
     "metadata": {},
     "output_type": "execute_result"
    }
   ],
   "source": [
    "np.array(ba)[np.array(iou).mean(-1).argmax()].mean(-1).max()"
   ]
  },
  {
   "cell_type": "code",
   "execution_count": 61,
   "metadata": {},
   "outputs": [
    {
     "data": {
      "text/plain": [
       "'voronoi/v2/med_res/points/0.05_0.1_0.3.hdf5'"
      ]
     },
     "execution_count": 61,
     "metadata": {},
     "output_type": "execute_result"
    }
   ],
   "source": [
    "addrs[np.array(iou).mean(-1).argmax()]"
   ]
  },
  {
   "cell_type": "code",
   "execution_count": 62,
   "metadata": {},
   "outputs": [],
   "source": [
    "sel = d[:100].sum(-1) < 4096"
   ]
  },
  {
   "cell_type": "code",
   "execution_count": 63,
   "metadata": {},
   "outputs": [
    {
     "data": {
      "text/plain": [
       "'voronoi/v2/med_res/points/0.6_0.1_0.05.hdf5'"
      ]
     },
     "execution_count": 63,
     "metadata": {},
     "output_type": "execute_result"
    }
   ],
   "source": [
    "addrs[np.array(ba)[:,sel].mean(-1).argmax()]"
   ]
  },
  {
   "cell_type": "code",
   "execution_count": 64,
   "metadata": {},
   "outputs": [
    {
     "data": {
      "text/plain": [
       "'voronoi/v2/med_res/points/0.05_0.1_0.3.hdf5'"
      ]
     },
     "execution_count": 64,
     "metadata": {},
     "output_type": "execute_result"
    }
   ],
   "source": [
    "addrs[np.array(iou)[:,sel].mean(-1).argmax()]"
   ]
  },
  {
   "cell_type": "code",
   "execution_count": null,
   "metadata": {},
   "outputs": [],
   "source": []
  },
  {
   "cell_type": "code",
   "execution_count": 25,
   "metadata": {},
   "outputs": [
    {
     "data": {
      "text/plain": [
       "211"
      ]
     },
     "execution_count": 25,
     "metadata": {},
     "output_type": "execute_result"
    }
   ],
   "source": [
    "np.array(ba).mean(-1).argmax()"
   ]
  },
  {
   "cell_type": "code",
   "execution_count": 40,
   "metadata": {},
   "outputs": [
    {
     "data": {
      "text/plain": [
       "0.8972608553034918"
      ]
     },
     "execution_count": 40,
     "metadata": {},
     "output_type": "execute_result"
    }
   ],
   "source": [
    "np.array(ba[94]).mean(-1)"
   ]
  },
  {
   "cell_type": "code",
   "execution_count": 54,
   "metadata": {},
   "outputs": [
    {
     "data": {
      "text/plain": [
       "0.9166250624063904"
      ]
     },
     "execution_count": 54,
     "metadata": {},
     "output_type": "execute_result"
    }
   ],
   "source": [
    "np.array(ba)[94][1]"
   ]
  },
  {
   "cell_type": "code",
   "execution_count": 55,
   "metadata": {},
   "outputs": [],
   "source": [
    "with h5py.File(addrs[94], 'r') as f:\n",
    "    v = f['distances'][:]"
   ]
  },
  {
   "cell_type": "code",
   "execution_count": 57,
   "metadata": {},
   "outputs": [
    {
     "data": {
      "text/plain": [
       "758.0"
      ]
     },
     "execution_count": 57,
     "metadata": {},
     "output_type": "execute_result"
    }
   ],
   "source": [
    "v[1].sum()"
   ]
  },
  {
   "cell_type": "code",
   "execution_count": 28,
   "metadata": {},
   "outputs": [
    {
     "data": {
      "text/plain": [
       "0.16034254761284913"
      ]
     },
     "execution_count": 28,
     "metadata": {},
     "output_type": "execute_result"
    }
   ],
   "source": [
    "np.array(iou).mean(-1).max()"
   ]
  },
  {
   "cell_type": "code",
   "execution_count": null,
   "metadata": {},
   "outputs": [],
   "source": []
  },
  {
   "cell_type": "code",
   "execution_count": 78,
   "metadata": {},
   "outputs": [
    {
     "data": {
      "text/plain": [
       "27"
      ]
     },
     "execution_count": 78,
     "metadata": {},
     "output_type": "execute_result"
    }
   ],
   "source": [
    "(np.array(ba)[244,sel] - np.array(ba)[94,sel]).argmin()"
   ]
  },
  {
   "cell_type": "code",
   "execution_count": 79,
   "metadata": {},
   "outputs": [
    {
     "data": {
      "text/plain": [
       "78"
      ]
     },
     "execution_count": 79,
     "metadata": {},
     "output_type": "execute_result"
    }
   ],
   "source": [
    "np.arange(0,100)[sel][27]"
   ]
  },
  {
   "cell_type": "code",
   "execution_count": 70,
   "metadata": {
    "scrolled": true
   },
   "outputs": [
    {
     "data": {
      "text/plain": [
       "'voronoi/v2/high_res/0.0/points/0.2_0.05_0.1.hdf5'"
      ]
     },
     "execution_count": 70,
     "metadata": {},
     "output_type": "execute_result"
    }
   ],
   "source": [
    "addrs[244]"
   ]
  },
  {
   "cell_type": "code",
   "execution_count": 23,
   "metadata": {},
   "outputs": [
    {
     "data": {
      "text/plain": [
       "array([ True, False, False,  True,  True, False, False, False, False,\n",
       "       False, False, False, False, False,  True, False,  True, False,\n",
       "        True, False, False, False,  True, False,  True, False, False,\n",
       "        True,  True, False, False, False,  True, False, False, False,\n",
       "       False,  True,  True, False,  True, False, False, False,  True,\n",
       "       False, False,  True,  True, False,  True, False, False, False,\n",
       "        True, False, False, False,  True,  True, False, False, False,\n",
       "       False, False, False,  True, False, False,  True, False,  True,\n",
       "       False, False,  True,  True, False,  True,  True,  True,  True,\n",
       "       False, False,  True, False, False,  True,  True, False, False,\n",
       "        True, False, False, False, False, False,  True,  True, False,\n",
       "        True])"
      ]
     },
     "execution_count": 23,
     "metadata": {},
     "output_type": "execute_result"
    }
   ],
   "source": [
    "sel"
   ]
  },
  {
   "cell_type": "code",
   "execution_count": 24,
   "metadata": {},
   "outputs": [
    {
     "data": {
      "text/plain": [
       "0.9490193214716722"
      ]
     },
     "execution_count": 24,
     "metadata": {},
     "output_type": "execute_result"
    }
   ],
   "source": [
    "np.array(ba)[94,sel].mean(-1)"
   ]
  },
  {
   "cell_type": "code",
   "execution_count": 31,
   "metadata": {},
   "outputs": [
    {
     "data": {
      "text/plain": [
       "array([0.02197266, 0.02685547, 0.02246094, 0.02148438, 0.02075195,\n",
       "       0.04931641, 0.03613281, 0.02905273, 0.05883789, 0.01879883,\n",
       "       0.02368164, 0.01806641, 0.06054688, 0.11621094, 0.06567383,\n",
       "       0.05273438, 0.03076172, 0.03344727, 0.28295898, 0.03320312,\n",
       "       0.02392578, 0.02563477, 0.03466797, 0.03222656, 0.03320312,\n",
       "       0.05004883, 0.03198242, 0.10473633, 0.02587891, 0.02563477,\n",
       "       0.04394531, 0.0637207 , 0.0324707 , 0.02197266, 0.0456543 ,\n",
       "       0.02294922, 0.03564453])"
      ]
     },
     "execution_count": 31,
     "metadata": {},
     "output_type": "execute_result"
    }
   ],
   "source": [
    "np.array(iou)[74,sel]"
   ]
  },
  {
   "cell_type": "code",
   "execution_count": 12,
   "metadata": {},
   "outputs": [
    {
     "data": {
      "text/plain": [
       "2275"
      ]
     },
     "execution_count": 12,
     "metadata": {},
     "output_type": "execute_result"
    }
   ],
   "source": [
    "sel.sum()"
   ]
  },
  {
   "cell_type": "code",
   "execution_count": 43,
   "metadata": {},
   "outputs": [],
   "source": [
    "import k3d\n",
    "import matplotlib.pyplot as plt\n",
    "import matplotlib as mpl\n",
    "import matplotlib.cm as cm"
   ]
  },
  {
   "cell_type": "code",
   "execution_count": 44,
   "metadata": {},
   "outputs": [],
   "source": [
    "def get_colors(pred, cmap):\n",
    "    hex_colors = []\n",
    "    norm = mpl.colors.Normalize(vmin=0, vmax=1)\n",
    "    cmap = cmap\n",
    "    m = cm.ScalarMappable(norm=norm, cmap=cmap)\n",
    "    for i in pred:\n",
    "#         hex_colors.append(m.to_rgba(i))\n",
    "        hex_colors.append(int(mpl.colors.to_hex(m.to_rgba(i)).replace('#','0x'),16))\n",
    "    hex_colors = np.array(hex_colors, 'uint32')\n",
    "    return(hex_colors)"
   ]
  },
  {
   "cell_type": "code",
   "execution_count": 45,
   "metadata": {},
   "outputs": [],
   "source": [
    "def image_to_points(image, resolution_3d=0.02):\n",
    "    \"\"\"\n",
    "    Depth image to point cloud transformation\n",
    "        input: image: depth image, shape = (image_height, image_width)\n",
    "               resolution_3d: sampling resolution, float\n",
    " \n",
    "        output: points: point cloud obtained from the depth image, shape = (image_height * image_width, 3)\n",
    "    \"\"\"\n",
    "    image_height, image_width = image.shape[0], image.shape[1]\n",
    "    screen_aspect_ratio = image_width / image_height\n",
    "    rays_screen_coords = np.mgrid[0:image_height, 0:image_width].reshape(\n",
    "            2, image_height * image_width).T\n",
    "\n",
    "    rays_origins = (rays_screen_coords / np.array([[image_height, image_width]]))   # [h, w, 2], in [0, 1]\n",
    "    factor = image_height / 2 * resolution_3d\n",
    "    rays_origins[:, 0] = (-2 * rays_origins[:, 0] + 1) * factor  # to [-1, 1] + aspect transform\n",
    "    rays_origins[:, 1] = (-2 * rays_origins[:, 1] + 1) * factor * screen_aspect_ratio\n",
    "    rays_origins = np.concatenate([\n",
    "        rays_origins,\n",
    "        np.zeros_like(rays_origins[:, [0]])\n",
    "    ], axis=1)\n",
    "    points = np.zeros((image_height * image_width, 3))\n",
    "    points[:, 0] = rays_origins[:, 0]\n",
    "    points[:, 1] = rays_origins[:, 1]\n",
    "    points[:, 2] = image.ravel()\n",
    "    return points"
   ]
  },
  {
   "cell_type": "code",
   "execution_count": 81,
   "metadata": {},
   "outputs": [],
   "source": [
    "with h5py.File(addrs[244], 'r') as f:\n",
    "    v_244 = f['distances'][:]\n",
    "    \n",
    "with h5py.File(addrs[94], 'r') as f:\n",
    "    v_94 = f['distances'][:]"
   ]
  },
  {
   "cell_type": "code",
   "execution_count": 87,
   "metadata": {},
   "outputs": [],
   "source": [
    "plot = k3d.plot()\n",
    "# poi = image_to_points(data[sample])\n",
    "# sample_better = 80\n",
    "# sample_worse = 78\n",
    "ori_1 = [0,1,1]\n",
    "ori_2 = [2.1,1,1]\n",
    "ori_3 = [4.2,1,1]\n",
    "ori_4 = [6.3,1,1]\n",
    "vec = [0,0,0]\n",
    "\n",
    "seg_78 = np.zeros_like(d[78])\n",
    "seg_78[d[78] < 0.02] = 1\n",
    "\n",
    "seg_80 = np.zeros_like(d[80])\n",
    "seg_80[d[80] < 0.02] = 1\n",
    "\n",
    "#     col_tr = get_colors(d[sample], cm.coolwarm_r)\n",
    "#     col_pr_b = get_colors(pred[sample], cm.coolwarm_r)\n",
    "col_78 = get_colors(seg_78, cm.coolwarm)\n",
    "col_80 = get_colors(seg_80, cm.coolwarm)\n",
    "col_244_78 = get_colors(v_244[78], cm.coolwarm)\n",
    "col_244_80 = get_colors(v_244[80], cm.coolwarm)\n",
    "col_94_78 = get_colors(v_94[78], cm.coolwarm)\n",
    "col_94_80 = get_colors(v_94[80], cm.coolwarm)\n",
    "\n",
    "#     data_shift = data[sample].copy()\n",
    "#     data_shift[:,0] = data_shift[:,0]+2.1\n",
    "#     data_shift_2 = data[sample].copy()\n",
    "#     data_shift_2[:,0] = data_shift_2[:,0]+4.2\n",
    "#     data_shift_3 = data[sample].copy()\n",
    "#     data_shift_3[:,0] = data_shift_3[:,0]+6.3\n",
    "\n",
    "#     points = k3d.points(data[sample],col_tr, \n",
    "#                         point_size=0.05, shader='mesh', )\n",
    "#     points1 = k3d.points(data[sample],col_pr_b, \n",
    "#                         point_size=0.05, shader='mesh', )\n",
    "points1 = k3d.points(p[78]-p[78].mean(0),col_78, \n",
    "                    point_size=0.05, shader='mesh', name='GT')\n",
    "points2 = k3d.points(p[78]-p[78].mean(0),col_94_78, \n",
    "                    point_size=0.05, shader='mesh', name='V, BA={}'.format(np.array(ba)[94,78]))\n",
    "points3 = k3d.points(p[78]-p[78].mean(0),col_244_78, \n",
    "                    point_size=0.05, shader='mesh', name='V, BA={}'.format(np.array(ba)[244,78]))\n",
    "points4 = k3d.points(p[80]-p[80].mean(0),col_80, \n",
    "                    point_size=0.05, shader='mesh', name='GT')\n",
    "points5 = k3d.points(p[80]-p[80].mean(0),col_94_80, \n",
    "                    point_size=0.05, shader='mesh', name='V, BA={}'.format(np.array(ba)[94,80]))\n",
    "points6 = k3d.points(p[80]-p[80].mean(0),col_244_80, \n",
    "                    point_size=0.05, shader='mesh', name='V, BA={}'.format(np.array(ba)[244,80]))\n",
    "#     vects_t = k3d.vectors(ori_1, vec, use_head=False, labels=['true'])\n",
    "#     vects_pb = k3d.vectors(ori_2, vec, use_head=False, labels=['DGCNN'])\n",
    "#     vects_p = k3d.vectors(ori_3, vec, use_head=False, labels=[_type])\n",
    "#     vects_v = k3d.vectors(ori_4, vec, use_head=False, labels=['voronoi'])\n",
    "\n",
    "plot += points1+points2+points3+points4+points5+points6\n",
    "\n",
    "f = open(\"beter_worse_v.html\", 'w')\n",
    "f.write(plot.get_snapshot())\n",
    "f.close()"
   ]
  },
  {
   "cell_type": "code",
   "execution_count": 16,
   "metadata": {},
   "outputs": [
    {
     "name": "stdout",
     "output_type": "stream",
     "text": [
      "(100, 4096)\n"
     ]
    }
   ],
   "source": [
    "with h5py.File('1.hdf5', 'r') as f:\n",
    "    print(f['distances'].shape)"
   ]
  },
  {
   "cell_type": "code",
   "execution_count": null,
   "metadata": {},
   "outputs": [],
   "source": []
  },
  {
   "cell_type": "code",
   "execution_count": null,
   "metadata": {},
   "outputs": [],
   "source": []
  },
  {
   "cell_type": "code",
   "execution_count": 6,
   "metadata": {},
   "outputs": [],
   "source": [
    "with h5py.File(addrs[94], 'r') as f:\n",
    "    v = f['distances'][:]"
   ]
  },
  {
   "cell_type": "code",
   "execution_count": 58,
   "metadata": {},
   "outputs": [
    {
     "name": "stdout",
     "output_type": "stream",
     "text": [
      "0\n",
      "1\n",
      "2\n",
      "3\n",
      "4\n",
      "5\n",
      "6\n",
      "7\n",
      "8\n",
      "9\n"
     ]
    }
   ],
   "source": [
    "mode = 'noise_0.02'\n",
    "# _type = 'DGCNN'\n",
    "for num,sample in enumerate(np.where(sel)[0][:10]):\n",
    "    print(num)\n",
    "\n",
    "    plot = k3d.plot()\n",
    "#     poi = image_to_points(data[sample])\n",
    "    poi = p[sample]\n",
    "    ori_1 = [0,1,1]\n",
    "    ori_2 = [2.1,1,1]\n",
    "    ori_3 = [4.2,1,1]\n",
    "    ori_4 = [6.3,1,1]\n",
    "    vec = [0,0,0]\n",
    "    \n",
    "    seg = np.zeros_like(d[sample])\n",
    "    seg[d[sample] < 0.02] = 1\n",
    "\n",
    "#     col_tr = get_colors(d[sample], cm.coolwarm_r)\n",
    "#     col_pr_b = get_colors(pred[sample], cm.coolwarm_r)\n",
    "    col_pr = get_colors(seg, cm.coolwarm)\n",
    "    col_v = get_colors(v[sample], cm.coolwarm)\n",
    "\n",
    "#     data_shift = data[sample].copy()\n",
    "#     data_shift[:,0] = data_shift[:,0]+2.1\n",
    "#     data_shift_2 = data[sample].copy()\n",
    "#     data_shift_2[:,0] = data_shift_2[:,0]+4.2\n",
    "#     data_shift_3 = data[sample].copy()\n",
    "#     data_shift_3[:,0] = data_shift_3[:,0]+6.3\n",
    "\n",
    "#     points = k3d.points(data[sample],col_tr, \n",
    "#                         point_size=0.05, shader='mesh', )\n",
    "#     points1 = k3d.points(data[sample],col_pr_b, \n",
    "#                         point_size=0.05, shader='mesh', )\n",
    "    points2 = k3d.points(poi,col_pr, \n",
    "                        point_size=0.05, shader='mesh', )\n",
    "    points3 = k3d.points(poi,col_v, \n",
    "                        point_size=0.05, shader='mesh', )\n",
    "#     vects_t = k3d.vectors(ori_1, vec, use_head=False, labels=['true'])\n",
    "#     vects_pb = k3d.vectors(ori_2, vec, use_head=False, labels=['DGCNN'])\n",
    "#     vects_p = k3d.vectors(ori_3, vec, use_head=False, labels=[_type])\n",
    "#     vects_v = k3d.vectors(ori_4, vec, use_head=False, labels=['voronoi'])\n",
    "\n",
    "    plot += points2+points3\n",
    "\n",
    "    f = open(\"%s_%s.html\" %(mode,sample), 'w')\n",
    "    f.write(plot.get_snapshot())\n",
    "    f.close()"
   ]
  },
  {
   "cell_type": "code",
   "execution_count": 9,
   "metadata": {},
   "outputs": [],
   "source": [
    "with h5py.File('/gpfs/gpfs0/3ddl/sharp_features/data_v2_cvpr/images/high_res.json/0.0/train/train_0.hdf5', 'r') as f:\n",
    "    data = f['image'][:100]"
   ]
  },
  {
   "cell_type": "code",
   "execution_count": 51,
   "metadata": {},
   "outputs": [
    {
     "data": {
      "text/plain": [
       "array([1210, 1211, 1720, ..., 1950,  868,  666])"
      ]
     },
     "execution_count": 51,
     "metadata": {},
     "output_type": "execute_result"
    }
   ],
   "source": [
    "np.argsort(np.array(ba)[17][sel])"
   ]
  },
  {
   "cell_type": "code",
   "execution_count": 58,
   "metadata": {},
   "outputs": [
    {
     "data": {
      "text/plain": [
       "4033.170524040394"
      ]
     },
     "execution_count": 58,
     "metadata": {},
     "output_type": "execute_result"
    }
   ],
   "source": [
    "d[sel][1210].sum()"
   ]
  },
  {
   "cell_type": "code",
   "execution_count": 47,
   "metadata": {},
   "outputs": [
    {
     "data": {
      "text/plain": [
       "array([0.51231421, 0.52245165, 0.50584907, 0.51428537, 0.52708684,\n",
       "       0.5008573 , 0.5065541 , 0.52580163, 0.50029955, 0.52293128,\n",
       "       0.52438743, 0.51946198, 0.52816047, 0.52875896, 0.50599062,\n",
       "       0.5188304 , 0.52664983, 0.50014012, 0.52417846, 0.5240779 ,\n",
       "       0.5241113 , 0.52904019, 0.52864282, 0.52764221, 0.5185989 ,\n",
       "       0.51920367, 0.50632579])"
      ]
     },
     "execution_count": 47,
     "metadata": {},
     "output_type": "execute_result"
    }
   ],
   "source": [
    "np.array(ba)[:,sel].mean(-1)"
   ]
  },
  {
   "cell_type": "code",
   "execution_count": 41,
   "metadata": {},
   "outputs": [
    {
     "name": "stdout",
     "output_type": "stream",
     "text": [
      "5963\n"
     ]
    }
   ],
   "source": [
    "with h5py.File('/gpfs/gpfs0/3ddl/sharp_features/data_v2_cvpr/points/high_res/0.0/train/train_0.hdf5', 'r') as f:\n",
    "    print((f['distances'][:].sum(-1) < 4096).sum())"
   ]
  },
  {
   "cell_type": "code",
   "execution_count": 125,
   "metadata": {},
   "outputs": [
    {
     "data": {
      "text/plain": [
       "95"
      ]
     },
     "execution_count": 125,
     "metadata": {},
     "output_type": "execute_result"
    }
   ],
   "source": [
    "np.where(d.sum(-1) < 4096)[0][15]"
   ]
  },
  {
   "cell_type": "code",
   "execution_count": null,
   "metadata": {},
   "outputs": [],
   "source": [
    "8886"
   ]
  },
  {
   "cell_type": "code",
   "execution_count": 127,
   "metadata": {},
   "outputs": [
    {
     "data": {
      "text/plain": [
       "(100, 64, 64)"
      ]
     },
     "execution_count": 127,
     "metadata": {},
     "output_type": "execute_result"
    }
   ],
   "source": [
    "data[:100].shape"
   ]
  },
  {
   "cell_type": "code",
   "execution_count": 4,
   "metadata": {},
   "outputs": [],
   "source": [
    "noise = '0.0025'\n",
    "\n",
    "with h5py.File('/gpfs/gpfs0/3ddl/sharp_features/data_v3_cvpr/images/high_res.json/'+noise+'/train/train_0.hdf5', 'r') as f:\n",
    "#     d = torch.flatten(torch.from_numpy(f['distances'][:]), start_dim=1).numpy()[:100]\n",
    "    p = f['image'][:100]\n",
    "#     d = f['distances'][:100]"
   ]
  },
  {
   "cell_type": "code",
   "execution_count": 5,
   "metadata": {},
   "outputs": [
    {
     "data": {
      "text/plain": [
       "(100, 64, 64)"
      ]
     },
     "execution_count": 5,
     "metadata": {},
     "output_type": "execute_result"
    }
   ],
   "source": [
    "p[:100].shape"
   ]
  },
  {
   "cell_type": "code",
   "execution_count": 14,
   "metadata": {},
   "outputs": [
    {
     "name": "stdout",
     "output_type": "stream",
     "text": [
      "[]\n"
     ]
    }
   ],
   "source": [
    "with h5py.File('v_selection_p.hdf5', 'w') as f:\n",
    "#     f.create_dataset(\"image\", data=p)\n",
    "    print(list(f.keys()))"
   ]
  },
  {
   "cell_type": "code",
   "execution_count": 46,
   "metadata": {},
   "outputs": [
    {
     "data": {
      "text/plain": [
       "array([[[  7.73179034,   7.72918328,   7.73398693, ...,   7.73320133,\n",
       "           7.72959513,   7.7312132 ],\n",
       "        [  7.71388392,   7.71592402,   7.72064151, ...,   7.71625222,\n",
       "           7.71882737,   7.71900379],\n",
       "        [  7.6965498 ,   7.69869577,   7.70328222, ...,   7.69989496,\n",
       "           7.70426702,   7.69845125],\n",
       "        ...,\n",
       "        [  8.41617373,   8.39570567,   8.38015675, ...,   7.31241652,\n",
       "           7.29213194,   7.2777569 ],\n",
       "        [  8.44221593,   8.42571688,   8.40887527, ...,   7.33696454,\n",
       "           7.31566415,   7.29707341],\n",
       "        [  8.4688408 ,   8.45281013,   8.43699635, ...,   7.36654102,\n",
       "           7.34497197,   7.32967432]],\n",
       "\n",
       "       [[ 21.62415142,  21.60249219,  21.58888265, ...,  20.5509217 ,\n",
       "          20.53372947,  20.5156116 ],\n",
       "        [ 21.62606465,  21.61042395,  21.59224782, ...,  20.55158449,\n",
       "          20.53955135,  20.52779164],\n",
       "        [ 21.63505105,  21.61268247,  21.6027323 , ...,  20.56114026,\n",
       "          20.54395152,  20.52782804],\n",
       "        ...,\n",
       "        [ 21.9754573 ,  21.95621767,  21.93669942, ...,  20.90568371,\n",
       "          20.88827833,  20.87002723],\n",
       "        [ 21.98147821,  21.96308455,  21.94224465, ...,  20.90319215,\n",
       "          20.88799635,  20.87910173],\n",
       "        [ 21.98929984,  21.97063418,  21.95317453, ...,  20.91271856,\n",
       "          20.90368876,  20.88321885]],\n",
       "\n",
       "       [[329.38156486, 329.36993551, 329.3586649 , ..., 328.67875244,\n",
       "         328.66872295, 328.65974715],\n",
       "        [329.38746228, 329.37160967, 329.3578647 , ..., 328.68870775,\n",
       "         328.66612248, 328.6638836 ],\n",
       "        [329.38105541, 329.37176631, 329.35762616, ..., 328.68478368,\n",
       "         328.67350244, 328.6644671 ],\n",
       "        ...,\n",
       "        [329.38059424, 329.37484579, 329.35979144, ..., 328.68221483,\n",
       "         328.67368273, 328.66043796],\n",
       "        [329.38302371, 329.37038061, 329.35774175, ..., 328.68209923,\n",
       "         328.67200005, 328.65805629],\n",
       "        [329.38232498, 329.36978025, 329.36058983, ..., 328.68820657,\n",
       "         328.67230584, 328.65572929]],\n",
       "\n",
       "       ...,\n",
       "\n",
       "       [[ 42.73500379,  42.73471101,  42.73112874, ...,  42.73500261,\n",
       "          42.72946588,  42.73240386],\n",
       "        [ 42.75744466,  42.75545575,  42.75731893, ...,  42.75601997,\n",
       "          42.75593233,  42.7566455 ],\n",
       "        [ 42.7786681 ,  42.77380236,  42.77708724, ...,  42.77409418,\n",
       "          42.77458704,  42.77899085],\n",
       "        ...,\n",
       "        [ 44.04408094,  44.03894031,  44.03521221, ...,  44.03473765,\n",
       "          44.03966044,  44.04066159],\n",
       "        [ 44.06279867,  44.058187  ,  44.05729436, ...,  44.06483353,\n",
       "          44.05808084,  44.06171393],\n",
       "        [ 44.07987212,  44.07963625,  44.08743064, ...,  44.08241458,\n",
       "          44.08222582,  44.08364413]],\n",
       "\n",
       "       [[ 17.24805401,  17.24621013,  17.24364971, ...,  17.0908849 ,\n",
       "          17.08247887,  17.0823653 ],\n",
       "        [ 17.24618101,  17.2502401 ,  17.24227807, ...,  17.09382356,\n",
       "          17.08328054,  17.08386492],\n",
       "        [ 17.25270364,  17.24615016,  17.24353862, ...,  17.08761289,\n",
       "          17.0916088 ,  17.08343971],\n",
       "        ...,\n",
       "        [ 17.41098242,  17.40194043,  17.40160628, ...,  17.24783041,\n",
       "          17.24237073,  17.24511066],\n",
       "        [ 17.41078633,  17.40592713,  17.40433742, ...,  17.25139115,\n",
       "          17.24826554,  17.24581251],\n",
       "        [ 17.4144773 ,  17.41476825,  17.41198868, ...,  17.2557048 ,\n",
       "          17.25251041,  17.25140121]],\n",
       "\n",
       "       [[ 25.36145171,  25.31434035,  25.26493605, ...,  22.40486041,\n",
       "          22.35431862,  22.308969  ],\n",
       "        [ 25.36198421,  25.3141126 ,  25.26550526, ...,  22.40453741,\n",
       "          22.36029531,  22.30845914],\n",
       "        [ 25.36275246,  25.31868065,  25.26654913, ...,  22.4023247 ,\n",
       "          22.35565093,  22.30746648],\n",
       "        ...,\n",
       "        [ 25.36917312,  25.3150322 ,  25.26575089, ...,  22.40777129,\n",
       "          22.35384119,  22.3104296 ],\n",
       "        [ 25.36170896,  25.32071809,  25.26167008, ...,  22.40596564,\n",
       "          22.34959831,  22.30725891],\n",
       "        [ 25.36223053,  25.31185201,  25.26639921, ...,  22.40193289,\n",
       "          22.357313  ,  22.30737794]]])"
      ]
     },
     "execution_count": 46,
     "metadata": {},
     "output_type": "execute_result"
    }
   ],
   "source": [
    "np.load('p.npy')"
   ]
  },
  {
   "cell_type": "code",
   "execution_count": 91,
   "metadata": {
    "scrolled": true
   },
   "outputs": [
    {
     "name": "stderr",
     "output_type": "stream",
     "text": [
      "100%|██████████| 1/1 [00:00<00:00, 169.23it/s]\n",
      "100%|██████████| 1/1 [00:00<00:00, 108.58it/s]\n",
      "100%|██████████| 1/1 [00:00<00:00, 108.58it/s]\n",
      "100%|██████████| 1/1 [00:00<00:00, 180.93it/s]\n",
      "100%|██████████| 1/1 [00:00<00:00, 155.37it/s]\n",
      "100%|██████████| 1/1 [00:00<00:00, 172.00it/s]\n",
      "100%|██████████| 1/1 [00:00<00:00, 100.80it/s]\n",
      "100%|██████████| 1/1 [00:00<00:00, 104.24it/s]\n",
      "100%|██████████| 1/1 [00:00<00:00, 108.78it/s]\n",
      "100%|██████████| 1/1 [00:00<00:00, 105.46it/s]\n",
      "100%|██████████| 1/1 [00:00<00:00, 123.74it/s]\n",
      "100%|██████████| 1/1 [00:00<00:00, 111.73it/s]\n",
      "100%|██████████| 1/1 [00:00<00:00, 173.56it/s]\n",
      "100%|██████████| 1/1 [00:00<00:00, 184.27it/s]\n",
      "100%|██████████| 1/1 [00:00<00:00, 192.08it/s]\n",
      "100%|██████████| 1/1 [00:00<00:00, 193.25it/s]\n",
      "100%|██████████| 1/1 [00:00<00:00, 177.90it/s]\n",
      "100%|██████████| 1/1 [00:00<00:00, 179.42it/s]\n",
      "100%|██████████| 1/1 [00:00<00:00, 187.51it/s]\n",
      "100%|██████████| 1/1 [00:00<00:00, 183.21it/s]\n",
      "100%|██████████| 1/1 [00:00<00:00, 189.25it/s]\n",
      "100%|██████████| 1/1 [00:00<00:00, 189.51it/s]\n",
      "100%|██████████| 1/1 [00:00<00:00, 181.23it/s]\n",
      "100%|██████████| 1/1 [00:00<00:00, 175.44it/s]\n",
      "100%|██████████| 1/1 [00:00<00:00, 175.94it/s]\n",
      "100%|██████████| 1/1 [00:00<00:00, 175.64it/s]\n",
      "100%|██████████| 1/1 [00:00<00:00, 175.26it/s]\n",
      "100%|██████████| 1/1 [00:00<00:00, 173.78it/s]\n",
      "100%|██████████| 1/1 [00:00<00:00, 181.20it/s]\n",
      "100%|██████████| 1/1 [00:00<00:00, 175.32it/s]\n",
      "100%|██████████| 1/1 [00:00<00:00, 178.45it/s]\n",
      "100%|██████████| 1/1 [00:00<00:00, 185.09it/s]\n",
      "100%|██████████| 1/1 [00:00<00:00, 171.87it/s]\n",
      "100%|██████████| 1/1 [00:00<00:00, 179.50it/s]\n",
      "100%|██████████| 1/1 [00:00<00:00, 170.68it/s]\n",
      "100%|██████████| 1/1 [00:00<00:00, 181.13it/s]\n",
      "100%|██████████| 1/1 [00:00<00:00, 165.03it/s]\n",
      "100%|██████████| 1/1 [00:00<00:00, 167.57it/s]\n",
      "100%|██████████| 1/1 [00:00<00:00, 166.40it/s]\n",
      "100%|██████████| 1/1 [00:00<00:00, 173.13it/s]\n",
      "100%|██████████| 1/1 [00:00<00:00, 180.80it/s]\n",
      "100%|██████████| 1/1 [00:00<00:00, 163.80it/s]\n",
      "100%|██████████| 1/1 [00:00<00:00, 166.98it/s]\n",
      "100%|██████████| 1/1 [00:00<00:00, 174.92it/s]\n",
      "100%|██████████| 1/1 [00:00<00:00, 170.82it/s]\n",
      "100%|██████████| 1/1 [00:00<00:00, 177.59it/s]\n",
      "100%|██████████| 1/1 [00:00<00:00, 163.51it/s]\n",
      "100%|██████████| 1/1 [00:00<00:00, 171.69it/s]\n",
      "100%|██████████| 1/1 [00:00<00:00, 182.08it/s]\n",
      "100%|██████████| 1/1 [00:00<00:00, 194.78it/s]\n",
      "100%|██████████| 1/1 [00:00<00:00, 174.28it/s]\n",
      "100%|██████████| 1/1 [00:00<00:00, 188.69it/s]\n",
      "100%|██████████| 1/1 [00:00<00:00, 186.90it/s]\n",
      "100%|██████████| 1/1 [00:00<00:00, 184.55it/s]\n",
      "100%|██████████| 1/1 [00:00<00:00, 175.86it/s]\n",
      "100%|██████████| 1/1 [00:00<00:00, 173.42it/s]\n",
      "100%|██████████| 1/1 [00:00<00:00, 183.53it/s]\n",
      "100%|██████████| 1/1 [00:00<00:00, 182.08it/s]\n",
      "100%|██████████| 1/1 [00:00<00:00, 185.25it/s]\n",
      "100%|██████████| 1/1 [00:00<00:00, 186.21it/s]\n",
      "100%|██████████| 1/1 [00:00<00:00, 176.83it/s]\n",
      "100%|██████████| 1/1 [00:00<00:00, 181.27it/s]\n",
      "100%|██████████| 1/1 [00:00<00:00, 184.12it/s]\n",
      "100%|██████████| 1/1 [00:00<00:00, 187.45it/s]\n",
      "100%|██████████| 1/1 [00:00<00:00, 179.74it/s]\n",
      "100%|██████████| 1/1 [00:00<00:00, 166.36it/s]\n",
      "100%|██████████| 1/1 [00:00<00:00, 183.37it/s]\n",
      "100%|██████████| 1/1 [00:00<00:00, 183.93it/s]\n",
      "100%|██████████| 1/1 [00:00<00:00, 178.03it/s]\n",
      "100%|██████████| 1/1 [00:00<00:00, 181.32it/s]\n",
      "100%|██████████| 1/1 [00:00<00:00, 189.24it/s]\n",
      "100%|██████████| 1/1 [00:00<00:00, 191.15it/s]\n",
      "100%|██████████| 1/1 [00:00<00:00, 99.64it/s]\n",
      "100%|██████████| 1/1 [00:00<00:00, 99.04it/s]\n",
      "100%|██████████| 1/1 [00:00<00:00, 176.28it/s]\n",
      "100%|██████████| 1/1 [00:00<00:00, 186.05it/s]\n",
      "100%|██████████| 1/1 [00:00<00:00, 174.89it/s]\n",
      "100%|██████████| 1/1 [00:00<00:00, 155.35it/s]\n",
      "100%|██████████| 1/1 [00:00<00:00, 157.17it/s]\n",
      "100%|██████████| 1/1 [00:00<00:00, 94.17it/s]\n",
      "100%|██████████| 1/1 [00:00<00:00, 110.34it/s]\n",
      "100%|██████████| 1/1 [00:00<00:00, 177.00it/s]\n",
      "100%|██████████| 1/1 [00:00<00:00, 156.90it/s]\n",
      "100%|██████████| 1/1 [00:00<00:00, 166.00it/s]\n",
      "100%|██████████| 1/1 [00:00<00:00, 176.15it/s]\n",
      "100%|██████████| 1/1 [00:00<00:00, 163.81it/s]\n",
      "100%|██████████| 1/1 [00:00<00:00, 177.03it/s]\n",
      "100%|██████████| 1/1 [00:00<00:00, 103.28it/s]\n",
      "100%|██████████| 1/1 [00:00<00:00, 110.20it/s]\n",
      "100%|██████████| 1/1 [00:00<00:00, 157.73it/s]\n",
      "100%|██████████| 1/1 [00:00<00:00, 159.78it/s]\n",
      "100%|██████████| 1/1 [00:00<00:00, 169.32it/s]\n",
      "100%|██████████| 1/1 [00:00<00:00, 159.79it/s]\n",
      "100%|██████████| 1/1 [00:00<00:00, 162.93it/s]\n",
      "100%|██████████| 1/1 [00:00<00:00, 171.18it/s]\n",
      "100%|██████████| 1/1 [00:00<00:00, 175.39it/s]\n",
      "100%|██████████| 1/1 [00:00<00:00, 177.32it/s]\n",
      "100%|██████████| 1/1 [00:00<00:00, 171.61it/s]\n",
      "100%|██████████| 1/1 [00:00<00:00, 184.89it/s]\n",
      "100%|██████████| 1/1 [00:00<00:00, 154.72it/s]\n",
      "100%|██████████| 1/1 [00:00<00:00, 150.34it/s]\n",
      "100%|██████████| 1/1 [00:00<00:00, 171.59it/s]\n",
      "100%|██████████| 1/1 [00:00<00:00, 181.02it/s]\n",
      "100%|██████████| 1/1 [00:00<00:00, 150.52it/s]\n",
      "100%|██████████| 1/1 [00:00<00:00, 169.55it/s]\n",
      "100%|██████████| 1/1 [00:00<00:00, 168.13it/s]\n",
      "100%|██████████| 1/1 [00:00<00:00, 151.22it/s]\n",
      "100%|██████████| 1/1 [00:00<00:00, 170.24it/s]\n",
      "100%|██████████| 1/1 [00:00<00:00, 155.86it/s]\n",
      "100%|██████████| 1/1 [00:00<00:00, 103.33it/s]\n",
      "100%|██████████| 1/1 [00:00<00:00, 104.50it/s]\n",
      "100%|██████████| 1/1 [00:00<00:00, 109.44it/s]\n",
      "100%|██████████| 1/1 [00:00<00:00, 159.57it/s]\n",
      "100%|██████████| 1/1 [00:00<00:00, 147.89it/s]\n",
      "100%|██████████| 1/1 [00:00<00:00, 164.57it/s]\n",
      "100%|██████████| 1/1 [00:00<00:00, 172.90it/s]\n",
      "100%|██████████| 1/1 [00:00<00:00, 184.48it/s]\n",
      "100%|██████████| 1/1 [00:00<00:00, 113.50it/s]\n",
      "100%|██████████| 1/1 [00:00<00:00, 108.41it/s]\n",
      "100%|██████████| 1/1 [00:00<00:00, 101.08it/s]\n",
      "100%|██████████| 1/1 [00:00<00:00, 135.15it/s]\n",
      "100%|██████████| 1/1 [00:00<00:00, 172.16it/s]\n",
      "100%|██████████| 1/1 [00:00<00:00, 176.23it/s]\n",
      "100%|██████████| 1/1 [00:00<00:00, 185.97it/s]\n",
      "100%|██████████| 1/1 [00:00<00:00, 175.65it/s]\n",
      "100%|██████████| 1/1 [00:00<00:00, 161.08it/s]\n",
      "100%|██████████| 1/1 [00:00<00:00, 169.25it/s]\n",
      "100%|██████████| 1/1 [00:00<00:00, 157.63it/s]\n",
      "100%|██████████| 1/1 [00:00<00:00, 162.56it/s]\n",
      "100%|██████████| 1/1 [00:00<00:00, 170.76it/s]\n",
      "100%|██████████| 1/1 [00:00<00:00, 173.13it/s]\n",
      "100%|██████████| 1/1 [00:00<00:00, 150.36it/s]\n",
      "100%|██████████| 1/1 [00:00<00:00, 162.05it/s]\n",
      "100%|██████████| 1/1 [00:00<00:00, 171.35it/s]\n",
      "100%|██████████| 1/1 [00:00<00:00, 161.26it/s]\n",
      "100%|██████████| 1/1 [00:00<00:00, 155.88it/s]\n",
      "100%|██████████| 1/1 [00:00<00:00, 177.47it/s]\n",
      "100%|██████████| 1/1 [00:00<00:00, 162.34it/s]\n",
      "100%|██████████| 1/1 [00:00<00:00, 155.01it/s]\n",
      "100%|██████████| 1/1 [00:00<00:00, 99.68it/s]\n",
      "100%|██████████| 1/1 [00:00<00:00, 98.21it/s]\n",
      "100%|██████████| 1/1 [00:00<00:00, 173.84it/s]\n",
      "100%|██████████| 1/1 [00:00<00:00, 174.97it/s]\n",
      "100%|██████████| 1/1 [00:00<00:00, 152.67it/s]\n",
      "100%|██████████| 1/1 [00:00<00:00, 183.65it/s]\n",
      "100%|██████████| 1/1 [00:00<00:00, 158.54it/s]\n",
      "100%|██████████| 1/1 [00:00<00:00, 174.14it/s]\n",
      "100%|██████████| 1/1 [00:00<00:00, 102.94it/s]\n",
      "100%|██████████| 1/1 [00:00<00:00, 106.19it/s]\n",
      "100%|██████████| 1/1 [00:00<00:00, 93.77it/s]\n",
      "100%|██████████| 1/1 [00:00<00:00, 102.20it/s]\n",
      "100%|██████████| 1/1 [00:00<00:00, 179.01it/s]\n",
      "100%|██████████| 1/1 [00:00<00:00, 187.30it/s]\n",
      "100%|██████████| 1/1 [00:00<00:00, 161.65it/s]\n",
      "100%|██████████| 1/1 [00:00<00:00, 167.24it/s]\n",
      "100%|██████████| 1/1 [00:00<00:00, 167.54it/s]\n",
      "100%|██████████| 1/1 [00:00<00:00, 172.80it/s]\n",
      "100%|██████████| 1/1 [00:00<00:00, 185.30it/s]\n",
      "100%|██████████| 1/1 [00:00<00:00, 196.48it/s]\n",
      "100%|██████████| 1/1 [00:00<00:00, 158.53it/s]\n",
      "100%|██████████| 1/1 [00:00<00:00, 168.51it/s]\n",
      "100%|██████████| 1/1 [00:00<00:00, 177.18it/s]\n",
      "100%|██████████| 1/1 [00:00<00:00, 177.61it/s]\n",
      "100%|██████████| 1/1 [00:00<00:00, 158.74it/s]\n",
      "100%|██████████| 1/1 [00:00<00:00, 154.81it/s]\n",
      "100%|██████████| 1/1 [00:00<00:00, 117.46it/s]\n",
      "100%|██████████| 1/1 [00:00<00:00, 175.21it/s]\n",
      "100%|██████████| 1/1 [00:00<00:00, 180.77it/s]\n",
      "100%|██████████| 1/1 [00:00<00:00, 177.44it/s]\n",
      "100%|██████████| 1/1 [00:00<00:00, 172.24it/s]\n",
      "100%|██████████| 1/1 [00:00<00:00, 176.02it/s]\n",
      "100%|██████████| 1/1 [00:00<00:00, 161.23it/s]\n",
      "100%|██████████| 1/1 [00:00<00:00, 183.41it/s]\n",
      "100%|██████████| 1/1 [00:00<00:00, 174.53it/s]\n",
      "100%|██████████| 1/1 [00:00<00:00, 173.36it/s]\n",
      "100%|██████████| 1/1 [00:00<00:00, 172.73it/s]\n",
      "100%|██████████| 1/1 [00:00<00:00, 182.79it/s]\n",
      "100%|██████████| 1/1 [00:00<00:00, 191.06it/s]\n",
      "100%|██████████| 1/1 [00:00<00:00, 186.06it/s]\n",
      "100%|██████████| 1/1 [00:00<00:00, 166.16it/s]\n",
      "100%|██████████| 1/1 [00:00<00:00, 179.29it/s]\n",
      "100%|██████████| 1/1 [00:00<00:00, 174.92it/s]\n",
      "100%|██████████| 1/1 [00:00<00:00, 182.86it/s]\n",
      "100%|██████████| 1/1 [00:00<00:00, 185.52it/s]\n",
      "100%|██████████| 1/1 [00:00<00:00, 161.61it/s]\n",
      "100%|██████████| 1/1 [00:00<00:00, 190.24it/s]\n",
      "100%|██████████| 1/1 [00:00<00:00, 181.69it/s]\n",
      "100%|██████████| 1/1 [00:00<00:00, 137.95it/s]\n",
      "100%|██████████| 1/1 [00:00<00:00, 111.62it/s]\n",
      "100%|██████████| 1/1 [00:00<00:00, 101.01it/s]\n",
      "100%|██████████| 1/1 [00:00<00:00, 100.25it/s]\n",
      "100%|██████████| 1/1 [00:00<00:00, 106.46it/s]\n",
      "100%|██████████| 1/1 [00:00<00:00, 175.33it/s]\n",
      "100%|██████████| 1/1 [00:00<00:00, 170.60it/s]\n",
      "100%|██████████| 1/1 [00:00<00:00, 178.97it/s]\n",
      "100%|██████████| 1/1 [00:00<00:00, 178.31it/s]\n",
      "100%|██████████| 1/1 [00:00<00:00, 177.69it/s]\n",
      "100%|██████████| 1/1 [00:00<00:00, 175.37it/s]\n",
      "100%|██████████| 1/1 [00:00<00:00, 167.77it/s]\n",
      "100%|██████████| 1/1 [00:00<00:00, 174.74it/s]\n",
      "100%|██████████| 1/1 [00:00<00:00, 164.08it/s]\n",
      "100%|██████████| 1/1 [00:00<00:00, 170.15it/s]\n",
      "100%|██████████| 1/1 [00:00<00:00, 173.90it/s]\n",
      "100%|██████████| 1/1 [00:00<00:00, 171.99it/s]\n",
      "100%|██████████| 1/1 [00:00<00:00, 190.05it/s]\n",
      "100%|██████████| 1/1 [00:00<00:00, 195.18it/s]\n",
      "100%|██████████| 1/1 [00:00<00:00, 170.11it/s]\n",
      "100%|██████████| 1/1 [00:00<00:00, 100.00it/s]\n",
      "100%|██████████| 1/1 [00:00<00:00, 85.53it/s]\n",
      "100%|██████████| 1/1 [00:00<00:00, 102.56it/s]\n",
      "100%|██████████| 1/1 [00:00<00:00, 114.43it/s]\n",
      "100%|██████████| 1/1 [00:00<00:00, 160.39it/s]\n",
      "100%|██████████| 1/1 [00:00<00:00, 149.02it/s]\n",
      "100%|██████████| 1/1 [00:00<00:00, 181.06it/s]\n",
      "100%|██████████| 1/1 [00:00<00:00, 148.30it/s]\n",
      "100%|██████████| 1/1 [00:00<00:00, 150.25it/s]\n",
      "100%|██████████| 1/1 [00:00<00:00, 160.30it/s]\n",
      "100%|██████████| 1/1 [00:00<00:00, 169.67it/s]\n",
      "100%|██████████| 1/1 [00:00<00:00, 157.95it/s]\n",
      "100%|██████████| 1/1 [00:00<00:00, 167.95it/s]\n",
      "100%|██████████| 1/1 [00:00<00:00, 159.83it/s]\n",
      "100%|██████████| 1/1 [00:00<00:00, 175.55it/s]\n",
      "100%|██████████| 1/1 [00:00<00:00, 174.38it/s]\n",
      "100%|██████████| 1/1 [00:00<00:00, 176.50it/s]\n",
      "100%|██████████| 1/1 [00:00<00:00, 164.42it/s]\n",
      "100%|██████████| 1/1 [00:00<00:00, 103.54it/s]\n",
      "100%|██████████| 1/1 [00:00<00:00, 103.16it/s]\n",
      "100%|██████████| 1/1 [00:00<00:00, 101.47it/s]\n",
      "100%|██████████| 1/1 [00:00<00:00, 102.75it/s]\n",
      "100%|██████████| 1/1 [00:00<00:00, 163.67it/s]\n",
      "100%|██████████| 1/1 [00:00<00:00, 186.06it/s]\n",
      "100%|██████████| 1/1 [00:00<00:00, 153.72it/s]\n",
      "100%|██████████| 1/1 [00:00<00:00, 165.84it/s]\n",
      "100%|██████████| 1/1 [00:00<00:00, 191.42it/s]\n",
      "100%|██████████| 1/1 [00:00<00:00, 184.24it/s]\n",
      "100%|██████████| 1/1 [00:00<00:00, 172.50it/s]\n",
      "100%|██████████| 1/1 [00:00<00:00, 161.35it/s]\n",
      "100%|██████████| 1/1 [00:00<00:00, 168.55it/s]\n",
      "100%|██████████| 1/1 [00:00<00:00, 149.25it/s]\n",
      "100%|██████████| 1/1 [00:00<00:00, 160.84it/s]\n",
      "100%|██████████| 1/1 [00:00<00:00, 97.57it/s]\n",
      "100%|██████████| 1/1 [00:00<00:00, 165.95it/s]\n",
      "100%|██████████| 1/1 [00:00<00:00, 148.05it/s]\n",
      "100%|██████████| 1/1 [00:00<00:00, 167.38it/s]\n",
      "100%|██████████| 1/1 [00:00<00:00, 103.33it/s]\n",
      "100%|██████████| 1/1 [00:00<00:00, 83.03it/s]\n",
      "100%|██████████| 1/1 [00:00<00:00, 117.52it/s]\n",
      "100%|██████████| 1/1 [00:00<00:00, 157.67it/s]\n",
      "100%|██████████| 1/1 [00:00<00:00, 179.00it/s]\n",
      "100%|██████████| 1/1 [00:00<00:00, 157.93it/s]\n",
      "100%|██████████| 1/1 [00:00<00:00, 160.87it/s]\n",
      "100%|██████████| 1/1 [00:00<00:00, 168.97it/s]\n",
      "100%|██████████| 1/1 [00:00<00:00, 158.01it/s]\n",
      "100%|██████████| 1/1 [00:00<00:00, 153.67it/s]\n",
      "100%|██████████| 1/1 [00:00<00:00, 181.45it/s]\n",
      "100%|██████████| 1/1 [00:00<00:00, 165.61it/s]\n",
      "100%|██████████| 1/1 [00:00<00:00, 158.00it/s]\n",
      "100%|██████████| 1/1 [00:00<00:00, 144.37it/s]\n",
      "100%|██████████| 1/1 [00:00<00:00, 182.39it/s]\n",
      "100%|██████████| 1/1 [00:00<00:00, 182.02it/s]\n",
      "100%|██████████| 1/1 [00:00<00:00, 192.64it/s]\n",
      "100%|██████████| 1/1 [00:00<00:00, 182.27it/s]\n",
      "100%|██████████| 1/1 [00:00<00:00, 171.71it/s]\n",
      "100%|██████████| 1/1 [00:00<00:00, 163.64it/s]\n",
      "100%|██████████| 1/1 [00:00<00:00, 146.93it/s]\n",
      "100%|██████████| 1/1 [00:00<00:00, 156.91it/s]\n",
      "100%|██████████| 1/1 [00:00<00:00, 178.35it/s]\n",
      "100%|██████████| 1/1 [00:00<00:00, 173.86it/s]\n",
      "100%|██████████| 1/1 [00:00<00:00, 163.78it/s]\n",
      "100%|██████████| 1/1 [00:00<00:00, 167.62it/s]\n",
      "100%|██████████| 1/1 [00:00<00:00, 166.07it/s]\n",
      "100%|██████████| 1/1 [00:00<00:00, 154.72it/s]\n",
      "100%|██████████| 1/1 [00:00<00:00, 154.34it/s]\n",
      "100%|██████████| 1/1 [00:00<00:00, 159.07it/s]\n",
      "100%|██████████| 1/1 [00:00<00:00, 154.08it/s]\n",
      "100%|██████████| 1/1 [00:00<00:00, 166.24it/s]\n",
      "100%|██████████| 1/1 [00:00<00:00, 161.41it/s]\n",
      "100%|██████████| 1/1 [00:00<00:00, 174.38it/s]\n",
      "100%|██████████| 1/1 [00:00<00:00, 149.33it/s]\n",
      "100%|██████████| 1/1 [00:00<00:00, 154.17it/s]\n",
      "100%|██████████| 1/1 [00:00<00:00, 167.50it/s]\n",
      "100%|██████████| 1/1 [00:00<00:00, 154.16it/s]\n",
      "100%|██████████| 1/1 [00:00<00:00, 168.91it/s]\n",
      "100%|██████████| 1/1 [00:00<00:00, 171.56it/s]\n",
      "100%|██████████| 1/1 [00:00<00:00, 152.34it/s]\n",
      "100%|██████████| 1/1 [00:00<00:00, 147.10it/s]\n",
      "100%|██████████| 1/1 [00:00<00:00, 162.26it/s]\n",
      "100%|██████████| 1/1 [00:00<00:00, 159.78it/s]\n",
      "100%|██████████| 1/1 [00:00<00:00, 174.04it/s]\n",
      "100%|██████████| 1/1 [00:00<00:00, 165.94it/s]\n",
      "100%|██████████| 1/1 [00:00<00:00, 181.57it/s]\n",
      "100%|██████████| 1/1 [00:00<00:00, 178.41it/s]\n",
      "100%|██████████| 1/1 [00:00<00:00, 165.27it/s]\n",
      "100%|██████████| 1/1 [00:00<00:00, 166.78it/s]\n",
      "100%|██████████| 1/1 [00:00<00:00, 174.20it/s]\n",
      "100%|██████████| 1/1 [00:00<00:00, 183.82it/s]\n",
      "100%|██████████| 1/1 [00:00<00:00, 163.36it/s]\n",
      "100%|██████████| 1/1 [00:00<00:00, 176.98it/s]\n",
      "100%|██████████| 1/1 [00:00<00:00, 182.11it/s]\n",
      "100%|██████████| 1/1 [00:00<00:00, 143.42it/s]\n",
      "100%|██████████| 1/1 [00:00<00:00, 163.04it/s]\n",
      "100%|██████████| 1/1 [00:00<00:00, 159.31it/s]\n",
      "100%|██████████| 1/1 [00:00<00:00, 175.49it/s]\n",
      "100%|██████████| 1/1 [00:00<00:00, 168.72it/s]\n",
      "100%|██████████| 1/1 [00:00<00:00, 170.47it/s]\n",
      "100%|██████████| 1/1 [00:00<00:00, 185.34it/s]\n",
      "100%|██████████| 1/1 [00:00<00:00, 127.80it/s]\n",
      "100%|██████████| 1/1 [00:00<00:00, 163.59it/s]\n",
      "100%|██████████| 1/1 [00:00<00:00, 161.82it/s]\n",
      "100%|██████████| 1/1 [00:00<00:00, 163.03it/s]\n",
      "100%|██████████| 1/1 [00:00<00:00, 151.26it/s]\n",
      "100%|██████████| 1/1 [00:00<00:00, 170.03it/s]\n",
      "100%|██████████| 1/1 [00:00<00:00, 179.93it/s]\n",
      "100%|██████████| 1/1 [00:00<00:00, 117.12it/s]\n",
      "100%|██████████| 1/1 [00:00<00:00, 172.44it/s]\n",
      "100%|██████████| 1/1 [00:00<00:00, 163.07it/s]\n",
      "100%|██████████| 1/1 [00:00<00:00, 161.95it/s]\n",
      "100%|██████████| 1/1 [00:00<00:00, 151.61it/s]\n",
      "100%|██████████| 1/1 [00:00<00:00, 179.03it/s]\n",
      "100%|██████████| 1/1 [00:00<00:00, 166.50it/s]\n",
      "100%|██████████| 1/1 [00:00<00:00, 176.22it/s]\n",
      "100%|██████████| 1/1 [00:00<00:00, 174.98it/s]\n",
      "100%|██████████| 1/1 [00:00<00:00, 172.14it/s]\n",
      "100%|██████████| 1/1 [00:00<00:00, 174.76it/s]\n",
      "100%|██████████| 1/1 [00:00<00:00, 180.38it/s]\n",
      "100%|██████████| 1/1 [00:00<00:00, 175.80it/s]\n",
      "100%|██████████| 1/1 [00:00<00:00, 155.92it/s]\n",
      "100%|██████████| 1/1 [00:00<00:00, 173.93it/s]\n",
      "100%|██████████| 1/1 [00:00<00:00, 161.62it/s]\n",
      "100%|██████████| 1/1 [00:00<00:00, 144.91it/s]\n",
      "100%|██████████| 1/1 [00:00<00:00, 155.78it/s]\n",
      "100%|██████████| 1/1 [00:00<00:00, 162.68it/s]\n",
      "100%|██████████| 1/1 [00:00<00:00, 145.26it/s]\n",
      "100%|██████████| 1/1 [00:00<00:00, 147.94it/s]\n",
      "100%|██████████| 1/1 [00:00<00:00, 158.21it/s]\n",
      "100%|██████████| 1/1 [00:00<00:00, 170.56it/s]\n",
      "100%|██████████| 1/1 [00:00<00:00, 178.88it/s]\n",
      "100%|██████████| 1/1 [00:00<00:00, 171.76it/s]\n",
      "100%|██████████| 1/1 [00:00<00:00, 167.26it/s]\n",
      "100%|██████████| 1/1 [00:00<00:00, 179.61it/s]\n",
      "100%|██████████| 1/1 [00:00<00:00, 169.86it/s]\n",
      "100%|██████████| 1/1 [00:00<00:00, 164.80it/s]\n",
      "100%|██████████| 1/1 [00:00<00:00, 179.54it/s]\n",
      "100%|██████████| 1/1 [00:00<00:00, 176.64it/s]\n",
      "100%|██████████| 1/1 [00:00<00:00, 179.68it/s]\n",
      "100%|██████████| 1/1 [00:00<00:00, 185.83it/s]\n",
      "100%|██████████| 1/1 [00:00<00:00, 175.27it/s]\n",
      "100%|██████████| 1/1 [00:00<00:00, 166.53it/s]\n",
      "100%|██████████| 1/1 [00:00<00:00, 186.43it/s]\n",
      "100%|██████████| 1/1 [00:00<00:00, 184.05it/s]\n",
      "100%|██████████| 1/1 [00:00<00:00, 182.56it/s]\n",
      "100%|██████████| 1/1 [00:00<00:00, 168.16it/s]\n",
      "100%|██████████| 1/1 [00:00<00:00, 193.33it/s]\n",
      "100%|██████████| 1/1 [00:00<00:00, 169.82it/s]\n",
      "100%|██████████| 1/1 [00:00<00:00, 171.34it/s]\n",
      "100%|██████████| 1/1 [00:00<00:00, 174.65it/s]\n",
      "100%|██████████| 1/1 [00:00<00:00, 177.80it/s]\n",
      "100%|██████████| 1/1 [00:00<00:00, 184.28it/s]\n",
      "100%|██████████| 1/1 [00:00<00:00, 182.13it/s]\n",
      "100%|██████████| 1/1 [00:00<00:00, 177.92it/s]\n",
      "100%|██████████| 1/1 [00:00<00:00, 177.25it/s]\n",
      "100%|██████████| 1/1 [00:00<00:00, 168.05it/s]\n",
      "100%|██████████| 1/1 [00:00<00:00, 178.25it/s]\n",
      "100%|██████████| 1/1 [00:00<00:00, 159.36it/s]\n",
      "100%|██████████| 1/1 [00:00<00:00, 158.35it/s]\n",
      "100%|██████████| 1/1 [00:00<00:00, 170.62it/s]\n",
      "100%|██████████| 1/1 [00:00<00:00, 178.63it/s]\n",
      "100%|██████████| 1/1 [00:00<00:00, 183.38it/s]\n",
      "100%|██████████| 1/1 [00:00<00:00, 182.87it/s]\n",
      "100%|██████████| 1/1 [00:00<00:00, 174.44it/s]\n",
      "100%|██████████| 1/1 [00:00<00:00, 181.10it/s]\n",
      "100%|██████████| 1/1 [00:00<00:00, 166.20it/s]\n",
      "100%|██████████| 1/1 [00:00<00:00, 167.41it/s]\n",
      "100%|██████████| 1/1 [00:00<00:00, 179.17it/s]\n",
      "100%|██████████| 1/1 [00:00<00:00, 167.83it/s]\n",
      "100%|██████████| 1/1 [00:00<00:00, 176.49it/s]\n",
      "100%|██████████| 1/1 [00:00<00:00, 190.07it/s]\n",
      "100%|██████████| 1/1 [00:00<00:00, 165.30it/s]\n",
      "100%|██████████| 1/1 [00:00<00:00, 173.23it/s]\n",
      "100%|██████████| 1/1 [00:00<00:00, 167.08it/s]\n",
      "100%|██████████| 1/1 [00:00<00:00, 165.10it/s]\n",
      "100%|██████████| 1/1 [00:00<00:00, 178.66it/s]\n",
      "100%|██████████| 1/1 [00:00<00:00, 149.14it/s]\n",
      "100%|██████████| 1/1 [00:00<00:00, 103.77it/s]\n",
      "100%|██████████| 1/1 [00:00<00:00, 137.14it/s]\n",
      "100%|██████████| 1/1 [00:00<00:00, 100.62it/s]\n",
      "100%|██████████| 1/1 [00:00<00:00, 113.83it/s]\n",
      "100%|██████████| 1/1 [00:00<00:00, 184.35it/s]\n",
      "100%|██████████| 1/1 [00:00<00:00, 170.34it/s]\n",
      "100%|██████████| 1/1 [00:00<00:00, 184.07it/s]\n",
      "100%|██████████| 1/1 [00:00<00:00, 103.15it/s]\n",
      "100%|██████████| 1/1 [00:00<00:00, 99.60it/s]\n",
      "100%|██████████| 1/1 [00:00<00:00, 92.17it/s]\n",
      "100%|██████████| 1/1 [00:00<00:00, 114.74it/s]\n",
      "100%|██████████| 1/1 [00:00<00:00, 178.53it/s]\n",
      "100%|██████████| 1/1 [00:00<00:00, 181.41it/s]\n",
      "100%|██████████| 1/1 [00:00<00:00, 177.21it/s]\n",
      "100%|██████████| 1/1 [00:00<00:00, 175.50it/s]\n",
      "100%|██████████| 1/1 [00:00<00:00, 119.40it/s]\n",
      "100%|██████████| 1/1 [00:00<00:00, 179.68it/s]\n",
      "100%|██████████| 1/1 [00:00<00:00, 181.12it/s]\n",
      "100%|██████████| 1/1 [00:00<00:00, 174.54it/s]\n",
      "100%|██████████| 1/1 [00:00<00:00, 176.89it/s]\n",
      "100%|██████████| 1/1 [00:00<00:00, 180.98it/s]\n",
      "100%|██████████| 1/1 [00:00<00:00, 182.71it/s]\n",
      "100%|██████████| 1/1 [00:00<00:00, 166.88it/s]\n",
      "100%|██████████| 1/1 [00:00<00:00, 167.79it/s]\n",
      "100%|██████████| 1/1 [00:00<00:00, 183.28it/s]\n",
      "100%|██████████| 1/1 [00:00<00:00, 157.70it/s]\n",
      "100%|██████████| 1/1 [00:00<00:00, 174.34it/s]\n",
      "100%|██████████| 1/1 [00:00<00:00, 164.31it/s]\n",
      "100%|██████████| 1/1 [00:00<00:00, 166.68it/s]\n",
      "100%|██████████| 1/1 [00:00<00:00, 160.72it/s]\n",
      "100%|██████████| 1/1 [00:00<00:00, 166.50it/s]\n",
      "100%|██████████| 1/1 [00:00<00:00, 169.25it/s]\n",
      "100%|██████████| 1/1 [00:00<00:00, 179.68it/s]\n",
      "100%|██████████| 1/1 [00:00<00:00, 186.56it/s]\n",
      "100%|██████████| 1/1 [00:00<00:00, 167.72it/s]\n",
      "100%|██████████| 1/1 [00:00<00:00, 167.85it/s]\n",
      "100%|██████████| 1/1 [00:00<00:00, 163.41it/s]\n",
      "100%|██████████| 1/1 [00:00<00:00, 181.44it/s]\n",
      "100%|██████████| 1/1 [00:00<00:00, 188.36it/s]\n",
      "100%|██████████| 1/1 [00:00<00:00, 188.46it/s]\n",
      "100%|██████████| 1/1 [00:00<00:00, 181.30it/s]\n",
      "100%|██████████| 1/1 [00:00<00:00, 167.34it/s]\n",
      "100%|██████████| 1/1 [00:00<00:00, 158.05it/s]\n",
      "100%|██████████| 1/1 [00:00<00:00, 156.38it/s]\n",
      "100%|██████████| 1/1 [00:00<00:00, 172.71it/s]\n",
      "100%|██████████| 1/1 [00:00<00:00, 163.73it/s]\n",
      "100%|██████████| 1/1 [00:00<00:00, 189.83it/s]\n",
      "100%|██████████| 1/1 [00:00<00:00, 159.96it/s]\n",
      "100%|██████████| 1/1 [00:00<00:00, 176.65it/s]\n",
      "100%|██████████| 1/1 [00:00<00:00, 170.14it/s]\n",
      "100%|██████████| 1/1 [00:00<00:00, 189.36it/s]\n",
      "100%|██████████| 1/1 [00:00<00:00, 188.01it/s]\n",
      "100%|██████████| 1/1 [00:00<00:00, 170.48it/s]\n",
      "100%|██████████| 1/1 [00:00<00:00, 179.97it/s]\n",
      "100%|██████████| 1/1 [00:00<00:00, 181.08it/s]\n",
      "100%|██████████| 1/1 [00:00<00:00, 186.93it/s]\n",
      "100%|██████████| 1/1 [00:00<00:00, 174.56it/s]\n",
      "100%|██████████| 1/1 [00:00<00:00, 182.71it/s]\n",
      "100%|██████████| 1/1 [00:00<00:00, 174.40it/s]\n",
      "100%|██████████| 1/1 [00:00<00:00, 181.67it/s]\n",
      "100%|██████████| 1/1 [00:00<00:00, 175.93it/s]\n",
      "100%|██████████| 1/1 [00:00<00:00, 170.42it/s]\n",
      "100%|██████████| 1/1 [00:00<00:00, 166.90it/s]\n",
      "100%|██████████| 1/1 [00:00<00:00, 156.98it/s]\n",
      "100%|██████████| 1/1 [00:00<00:00, 163.33it/s]\n",
      "100%|██████████| 1/1 [00:00<00:00, 180.83it/s]\n",
      "100%|██████████| 1/1 [00:00<00:00, 175.25it/s]\n",
      "100%|██████████| 1/1 [00:00<00:00, 170.35it/s]\n",
      "100%|██████████| 1/1 [00:00<00:00, 168.66it/s]\n",
      "100%|██████████| 1/1 [00:00<00:00, 172.73it/s]\n",
      "100%|██████████| 1/1 [00:00<00:00, 168.28it/s]\n",
      "100%|██████████| 1/1 [00:00<00:00, 178.63it/s]\n",
      "100%|██████████| 1/1 [00:00<00:00, 177.64it/s]\n",
      "100%|██████████| 1/1 [00:00<00:00, 180.14it/s]\n",
      "100%|██████████| 1/1 [00:00<00:00, 187.48it/s]\n",
      "100%|██████████| 1/1 [00:00<00:00, 167.31it/s]\n",
      "100%|██████████| 1/1 [00:00<00:00, 175.98it/s]\n",
      "100%|██████████| 1/1 [00:00<00:00, 174.11it/s]\n",
      "100%|██████████| 1/1 [00:00<00:00, 183.19it/s]\n",
      "100%|██████████| 1/1 [00:00<00:00, 166.55it/s]\n",
      "100%|██████████| 1/1 [00:00<00:00, 167.70it/s]\n",
      "100%|██████████| 1/1 [00:00<00:00, 108.63it/s]\n",
      "100%|██████████| 1/1 [00:00<00:00, 104.12it/s]\n",
      "100%|██████████| 1/1 [00:00<00:00, 187.83it/s]\n",
      "100%|██████████| 1/1 [00:00<00:00, 180.56it/s]\n",
      "100%|██████████| 1/1 [00:00<00:00, 194.08it/s]\n",
      "100%|██████████| 1/1 [00:00<00:00, 185.60it/s]\n",
      "100%|██████████| 1/1 [00:00<00:00, 122.59it/s]\n",
      "100%|██████████| 1/1 [00:00<00:00, 182.19it/s]\n",
      "100%|██████████| 1/1 [00:00<00:00, 168.92it/s]\n",
      "100%|██████████| 1/1 [00:00<00:00, 98.43it/s]\n",
      "100%|██████████| 1/1 [00:00<00:00, 115.10it/s]\n",
      "100%|██████████| 1/1 [00:00<00:00, 112.77it/s]\n",
      "100%|██████████| 1/1 [00:00<00:00, 96.83it/s]\n",
      "100%|██████████| 1/1 [00:00<00:00, 107.10it/s]\n",
      "100%|██████████| 1/1 [00:00<00:00, 172.25it/s]\n",
      "100%|██████████| 1/1 [00:00<00:00, 174.10it/s]\n",
      "100%|██████████| 1/1 [00:00<00:00, 163.20it/s]\n",
      "100%|██████████| 1/1 [00:00<00:00, 174.28it/s]\n",
      "100%|██████████| 1/1 [00:00<00:00, 163.30it/s]\n",
      "100%|██████████| 1/1 [00:00<00:00, 167.16it/s]\n",
      "100%|██████████| 1/1 [00:00<00:00, 182.46it/s]\n",
      "100%|██████████| 1/1 [00:00<00:00, 170.67it/s]\n",
      "100%|██████████| 1/1 [00:00<00:00, 179.37it/s]\n",
      "100%|██████████| 1/1 [00:00<00:00, 177.52it/s]\n",
      "100%|██████████| 1/1 [00:00<00:00, 176.79it/s]\n",
      "100%|██████████| 1/1 [00:00<00:00, 173.86it/s]\n",
      "100%|██████████| 1/1 [00:00<00:00, 162.94it/s]\n",
      "100%|██████████| 1/1 [00:00<00:00, 163.65it/s]\n",
      "100%|██████████| 1/1 [00:00<00:00, 170.32it/s]\n",
      "100%|██████████| 1/1 [00:00<00:00, 179.67it/s]\n",
      "100%|██████████| 1/1 [00:00<00:00, 178.87it/s]\n",
      "100%|██████████| 1/1 [00:00<00:00, 168.53it/s]\n",
      "100%|██████████| 1/1 [00:00<00:00, 142.52it/s]\n",
      "100%|██████████| 1/1 [00:00<00:00, 161.39it/s]\n",
      "100%|██████████| 1/1 [00:00<00:00, 168.84it/s]\n",
      "100%|██████████| 1/1 [00:00<00:00, 145.47it/s]\n",
      "100%|██████████| 1/1 [00:00<00:00, 163.68it/s]\n",
      "100%|██████████| 1/1 [00:00<00:00, 158.34it/s]\n",
      "100%|██████████| 1/1 [00:00<00:00, 178.70it/s]\n",
      "100%|██████████| 1/1 [00:00<00:00, 169.84it/s]\n",
      "100%|██████████| 1/1 [00:00<00:00, 170.24it/s]\n",
      "100%|██████████| 1/1 [00:00<00:00, 119.18it/s]\n",
      "100%|██████████| 1/1 [00:00<00:00, 186.89it/s]\n",
      "100%|██████████| 1/1 [00:00<00:00, 170.81it/s]\n",
      "100%|██████████| 1/1 [00:00<00:00, 149.33it/s]\n",
      "100%|██████████| 1/1 [00:00<00:00, 170.67it/s]\n",
      "100%|██████████| 1/1 [00:00<00:00, 187.98it/s]\n",
      "100%|██████████| 1/1 [00:00<00:00, 171.14it/s]\n",
      "100%|██████████| 1/1 [00:00<00:00, 189.96it/s]\n",
      "100%|██████████| 1/1 [00:00<00:00, 177.89it/s]\n",
      "100%|██████████| 1/1 [00:00<00:00, 178.96it/s]\n",
      "100%|██████████| 1/1 [00:00<00:00, 173.18it/s]\n",
      "100%|██████████| 1/1 [00:00<00:00, 182.02it/s]\n",
      "100%|██████████| 1/1 [00:00<00:00, 171.71it/s]\n",
      "100%|██████████| 1/1 [00:00<00:00, 174.54it/s]\n",
      "100%|██████████| 1/1 [00:00<00:00, 187.13it/s]\n",
      "100%|██████████| 1/1 [00:00<00:00, 184.31it/s]\n",
      "100%|██████████| 1/1 [00:00<00:00, 175.08it/s]\n",
      "100%|██████████| 1/1 [00:00<00:00, 179.24it/s]\n",
      "100%|██████████| 1/1 [00:00<00:00, 189.15it/s]\n",
      "100%|██████████| 1/1 [00:00<00:00, 160.98it/s]\n",
      "100%|██████████| 1/1 [00:00<00:00, 167.79it/s]\n",
      "100%|██████████| 1/1 [00:00<00:00, 182.53it/s]\n",
      "100%|██████████| 1/1 [00:00<00:00, 182.89it/s]\n",
      "100%|██████████| 1/1 [00:00<00:00, 181.57it/s]\n",
      "100%|██████████| 1/1 [00:00<00:00, 184.28it/s]\n",
      "100%|██████████| 1/1 [00:00<00:00, 192.69it/s]\n",
      "100%|██████████| 1/1 [00:00<00:00, 191.83it/s]\n",
      "100%|██████████| 1/1 [00:00<00:00, 179.47it/s]\n",
      "100%|██████████| 1/1 [00:00<00:00, 180.34it/s]\n",
      "100%|██████████| 1/1 [00:00<00:00, 173.32it/s]\n",
      "100%|██████████| 1/1 [00:00<00:00, 178.16it/s]\n",
      "100%|██████████| 1/1 [00:00<00:00, 177.28it/s]\n",
      "100%|██████████| 1/1 [00:00<00:00, 183.68it/s]\n",
      "100%|██████████| 1/1 [00:00<00:00, 181.87it/s]\n",
      "100%|██████████| 1/1 [00:00<00:00, 174.20it/s]\n",
      "100%|██████████| 1/1 [00:00<00:00, 182.78it/s]\n",
      "100%|██████████| 1/1 [00:00<00:00, 169.54it/s]\n",
      "100%|██████████| 1/1 [00:00<00:00, 163.39it/s]\n",
      "100%|██████████| 1/1 [00:00<00:00, 176.65it/s]\n",
      "100%|██████████| 1/1 [00:00<00:00, 160.84it/s]\n",
      "100%|██████████| 1/1 [00:00<00:00, 178.51it/s]\n",
      "100%|██████████| 1/1 [00:00<00:00, 182.81it/s]\n",
      "100%|██████████| 1/1 [00:00<00:00, 176.08it/s]\n",
      "100%|██████████| 1/1 [00:00<00:00, 187.87it/s]\n",
      "100%|██████████| 1/1 [00:00<00:00, 149.03it/s]\n",
      "100%|██████████| 1/1 [00:00<00:00, 168.91it/s]\n",
      "100%|██████████| 1/1 [00:00<00:00, 172.99it/s]\n",
      "100%|██████████| 1/1 [00:00<00:00, 163.31it/s]\n",
      "100%|██████████| 1/1 [00:00<00:00, 165.71it/s]\n",
      "100%|██████████| 1/1 [00:00<00:00, 162.94it/s]\n",
      "100%|██████████| 1/1 [00:00<00:00, 158.35it/s]\n",
      "100%|██████████| 1/1 [00:00<00:00, 173.36it/s]\n",
      "100%|██████████| 1/1 [00:00<00:00, 177.09it/s]\n",
      "100%|██████████| 1/1 [00:00<00:00, 179.18it/s]\n",
      "100%|██████████| 1/1 [00:00<00:00, 184.70it/s]\n",
      "100%|██████████| 1/1 [00:00<00:00, 178.93it/s]\n",
      "100%|██████████| 1/1 [00:00<00:00, 170.58it/s]\n",
      "100%|██████████| 1/1 [00:00<00:00, 181.80it/s]\n",
      "100%|██████████| 1/1 [00:00<00:00, 173.96it/s]\n",
      "100%|██████████| 1/1 [00:00<00:00, 188.51it/s]\n",
      "100%|██████████| 1/1 [00:00<00:00, 190.57it/s]\n",
      "100%|██████████| 1/1 [00:00<00:00, 188.60it/s]\n",
      "100%|██████████| 1/1 [00:00<00:00, 166.40it/s]\n",
      "100%|██████████| 1/1 [00:00<00:00, 192.61it/s]\n",
      "100%|██████████| 1/1 [00:00<00:00, 175.39it/s]\n",
      "100%|██████████| 1/1 [00:00<00:00, 174.83it/s]\n",
      "100%|██████████| 1/1 [00:00<00:00, 177.61it/s]\n",
      "100%|██████████| 1/1 [00:00<00:00, 179.83it/s]\n",
      "100%|██████████| 1/1 [00:00<00:00, 192.68it/s]\n",
      "100%|██████████| 1/1 [00:00<00:00, 174.62it/s]\n",
      "100%|██████████| 1/1 [00:00<00:00, 175.40it/s]\n",
      "100%|██████████| 1/1 [00:00<00:00, 172.02it/s]\n",
      "100%|██████████| 1/1 [00:00<00:00, 169.71it/s]\n",
      "100%|██████████| 1/1 [00:00<00:00, 169.93it/s]\n",
      "100%|██████████| 1/1 [00:00<00:00, 188.99it/s]\n",
      "100%|██████████| 1/1 [00:00<00:00, 172.31it/s]\n",
      "100%|██████████| 1/1 [00:00<00:00, 185.37it/s]\n",
      "100%|██████████| 1/1 [00:00<00:00, 190.22it/s]\n",
      "100%|██████████| 1/1 [00:00<00:00, 170.73it/s]\n",
      "100%|██████████| 1/1 [00:00<00:00, 178.64it/s]\n",
      "100%|██████████| 1/1 [00:00<00:00, 188.36it/s]\n",
      "100%|██████████| 1/1 [00:00<00:00, 173.07it/s]\n",
      "100%|██████████| 1/1 [00:00<00:00, 180.28it/s]\n",
      "100%|██████████| 1/1 [00:00<00:00, 161.47it/s]\n",
      "100%|██████████| 1/1 [00:00<00:00, 169.93it/s]\n",
      "100%|██████████| 1/1 [00:00<00:00, 181.83it/s]\n",
      "100%|██████████| 1/1 [00:00<00:00, 175.99it/s]\n",
      "100%|██████████| 1/1 [00:00<00:00, 159.78it/s]\n",
      "100%|██████████| 1/1 [00:00<00:00, 176.85it/s]\n",
      "100%|██████████| 1/1 [00:00<00:00, 168.97it/s]\n",
      "100%|██████████| 1/1 [00:00<00:00, 179.24it/s]\n",
      "100%|██████████| 1/1 [00:00<00:00, 169.12it/s]\n",
      "100%|██████████| 1/1 [00:00<00:00, 166.41it/s]\n",
      "100%|██████████| 1/1 [00:00<00:00, 162.74it/s]\n",
      "100%|██████████| 1/1 [00:00<00:00, 188.80it/s]\n",
      "100%|██████████| 1/1 [00:00<00:00, 174.65it/s]\n",
      "100%|██████████| 1/1 [00:00<00:00, 185.68it/s]\n",
      "100%|██████████| 1/1 [00:00<00:00, 181.10it/s]\n",
      "100%|██████████| 1/1 [00:00<00:00, 186.59it/s]\n",
      "100%|██████████| 1/1 [00:00<00:00, 174.62it/s]\n",
      "100%|██████████| 1/1 [00:00<00:00, 177.26it/s]\n",
      "100%|██████████| 1/1 [00:00<00:00, 180.90it/s]\n",
      "100%|██████████| 1/1 [00:00<00:00, 174.25it/s]\n",
      "100%|██████████| 1/1 [00:00<00:00, 177.38it/s]\n",
      "100%|██████████| 1/1 [00:00<00:00, 188.26it/s]\n",
      "100%|██████████| 1/1 [00:00<00:00, 171.76it/s]\n",
      "100%|██████████| 1/1 [00:00<00:00, 174.47it/s]\n",
      "100%|██████████| 1/1 [00:00<00:00, 165.72it/s]\n",
      "100%|██████████| 1/1 [00:00<00:00, 171.35it/s]\n",
      "100%|██████████| 1/1 [00:00<00:00, 176.87it/s]\n",
      "100%|██████████| 1/1 [00:00<00:00, 181.72it/s]\n",
      "100%|██████████| 1/1 [00:00<00:00, 173.80it/s]\n",
      "100%|██████████| 1/1 [00:00<00:00, 174.94it/s]\n",
      "100%|██████████| 1/1 [00:00<00:00, 178.28it/s]\n",
      "100%|██████████| 1/1 [00:00<00:00, 176.94it/s]\n",
      "100%|██████████| 1/1 [00:00<00:00, 169.44it/s]\n",
      "100%|██████████| 1/1 [00:00<00:00, 177.60it/s]\n",
      "100%|██████████| 1/1 [00:00<00:00, 178.38it/s]\n",
      "100%|██████████| 1/1 [00:00<00:00, 195.32it/s]\n",
      "100%|██████████| 1/1 [00:00<00:00, 170.06it/s]\n",
      "100%|██████████| 1/1 [00:00<00:00, 178.85it/s]\n",
      "100%|██████████| 1/1 [00:00<00:00, 186.75it/s]\n",
      "100%|██████████| 1/1 [00:00<00:00, 169.00it/s]\n",
      "100%|██████████| 1/1 [00:00<00:00, 182.89it/s]\n",
      "100%|██████████| 1/1 [00:00<00:00, 197.15it/s]\n",
      "100%|██████████| 1/1 [00:00<00:00, 173.68it/s]\n",
      "100%|██████████| 1/1 [00:00<00:00, 184.61it/s]\n",
      "100%|██████████| 1/1 [00:00<00:00, 176.33it/s]\n",
      "100%|██████████| 1/1 [00:00<00:00, 175.55it/s]\n",
      "100%|██████████| 1/1 [00:00<00:00, 167.39it/s]\n",
      "100%|██████████| 1/1 [00:00<00:00, 178.81it/s]\n",
      "100%|██████████| 1/1 [00:00<00:00, 170.26it/s]\n",
      "100%|██████████| 1/1 [00:00<00:00, 180.41it/s]\n",
      "100%|██████████| 1/1 [00:00<00:00, 188.29it/s]\n",
      "100%|██████████| 1/1 [00:00<00:00, 180.77it/s]\n",
      "100%|██████████| 1/1 [00:00<00:00, 181.82it/s]\n",
      "100%|██████████| 1/1 [00:00<00:00, 170.94it/s]\n",
      "100%|██████████| 1/1 [00:00<00:00, 170.44it/s]\n",
      "100%|██████████| 1/1 [00:00<00:00, 186.61it/s]\n",
      "100%|██████████| 1/1 [00:00<00:00, 178.79it/s]\n",
      "100%|██████████| 1/1 [00:00<00:00, 190.48it/s]\n",
      "100%|██████████| 1/1 [00:00<00:00, 175.44it/s]\n",
      "100%|██████████| 1/1 [00:00<00:00, 179.87it/s]\n",
      "100%|██████████| 1/1 [00:00<00:00, 173.51it/s]\n",
      "100%|██████████| 1/1 [00:00<00:00, 177.19it/s]\n",
      "100%|██████████| 1/1 [00:00<00:00, 181.42it/s]\n",
      "100%|██████████| 1/1 [00:00<00:00, 178.77it/s]\n",
      "100%|██████████| 1/1 [00:00<00:00, 188.25it/s]\n",
      "100%|██████████| 1/1 [00:00<00:00, 178.44it/s]\n",
      "100%|██████████| 1/1 [00:00<00:00, 175.73it/s]\n",
      "100%|██████████| 1/1 [00:00<00:00, 162.46it/s]\n",
      "100%|██████████| 1/1 [00:00<00:00, 176.18it/s]\n",
      "100%|██████████| 1/1 [00:00<00:00, 175.80it/s]\n",
      "100%|██████████| 1/1 [00:00<00:00, 173.96it/s]\n",
      "100%|██████████| 1/1 [00:00<00:00, 164.58it/s]\n",
      "100%|██████████| 1/1 [00:00<00:00, 185.12it/s]\n",
      "100%|██████████| 1/1 [00:00<00:00, 175.93it/s]\n",
      "100%|██████████| 1/1 [00:00<00:00, 171.51it/s]\n",
      "100%|██████████| 1/1 [00:00<00:00, 188.99it/s]\n",
      "100%|██████████| 1/1 [00:00<00:00, 174.10it/s]\n",
      "100%|██████████| 1/1 [00:00<00:00, 173.87it/s]\n",
      "100%|██████████| 1/1 [00:00<00:00, 178.17it/s]\n",
      "100%|██████████| 1/1 [00:00<00:00, 171.82it/s]\n",
      "100%|██████████| 1/1 [00:00<00:00, 182.07it/s]\n",
      "100%|██████████| 1/1 [00:00<00:00, 166.31it/s]\n",
      "100%|██████████| 1/1 [00:00<00:00, 181.46it/s]\n",
      "100%|██████████| 1/1 [00:00<00:00, 161.62it/s]\n",
      "100%|██████████| 1/1 [00:00<00:00, 182.97it/s]\n",
      "100%|██████████| 1/1 [00:00<00:00, 160.99it/s]\n",
      "100%|██████████| 1/1 [00:00<00:00, 105.30it/s]\n",
      "100%|██████████| 1/1 [00:00<00:00, 156.63it/s]\n",
      "100%|██████████| 1/1 [00:00<00:00, 167.10it/s]\n",
      "100%|██████████| 1/1 [00:00<00:00, 184.28it/s]\n",
      "100%|██████████| 1/1 [00:00<00:00, 187.08it/s]\n",
      "100%|██████████| 1/1 [00:00<00:00, 163.00it/s]\n",
      "100%|██████████| 1/1 [00:00<00:00, 172.23it/s]\n",
      "100%|██████████| 1/1 [00:00<00:00, 111.86it/s]\n",
      "100%|██████████| 1/1 [00:00<00:00, 104.78it/s]\n",
      "100%|██████████| 1/1 [00:00<00:00, 93.23it/s]\n",
      "100%|██████████| 1/1 [00:00<00:00, 98.82it/s]\n",
      "100%|██████████| 1/1 [00:00<00:00, 184.18it/s]\n",
      "100%|██████████| 1/1 [00:00<00:00, 179.17it/s]\n",
      "100%|██████████| 1/1 [00:00<00:00, 157.70it/s]\n",
      "100%|██████████| 1/1 [00:00<00:00, 181.02it/s]\n",
      "100%|██████████| 1/1 [00:00<00:00, 180.49it/s]\n",
      "100%|██████████| 1/1 [00:00<00:00, 180.59it/s]\n",
      "100%|██████████| 1/1 [00:00<00:00, 196.00it/s]\n",
      "100%|██████████| 1/1 [00:00<00:00, 183.95it/s]\n",
      "100%|██████████| 1/1 [00:00<00:00, 181.75it/s]\n",
      "100%|██████████| 1/1 [00:00<00:00, 177.39it/s]\n",
      "100%|██████████| 1/1 [00:00<00:00, 176.50it/s]\n",
      "100%|██████████| 1/1 [00:00<00:00, 192.99it/s]\n",
      "100%|██████████| 1/1 [00:00<00:00, 170.35it/s]\n",
      "100%|██████████| 1/1 [00:00<00:00, 179.93it/s]\n",
      "100%|██████████| 1/1 [00:00<00:00, 191.70it/s]\n",
      "100%|██████████| 1/1 [00:00<00:00, 167.51it/s]\n",
      "100%|██████████| 1/1 [00:00<00:00, 183.44it/s]\n",
      "100%|██████████| 1/1 [00:00<00:00, 169.30it/s]\n",
      "100%|██████████| 1/1 [00:00<00:00, 162.92it/s]\n",
      "100%|██████████| 1/1 [00:00<00:00, 178.80it/s]\n",
      "100%|██████████| 1/1 [00:00<00:00, 171.36it/s]\n",
      "100%|██████████| 1/1 [00:00<00:00, 151.17it/s]\n",
      "100%|██████████| 1/1 [00:00<00:00, 168.69it/s]\n",
      "100%|██████████| 1/1 [00:00<00:00, 176.16it/s]\n",
      "100%|██████████| 1/1 [00:00<00:00, 164.55it/s]\n",
      "100%|██████████| 1/1 [00:00<00:00, 165.69it/s]\n",
      "100%|██████████| 1/1 [00:00<00:00, 170.18it/s]\n",
      "100%|██████████| 1/1 [00:00<00:00, 174.63it/s]\n",
      "100%|██████████| 1/1 [00:00<00:00, 163.12it/s]\n",
      "100%|██████████| 1/1 [00:00<00:00, 183.45it/s]\n",
      "100%|██████████| 1/1 [00:00<00:00, 175.75it/s]\n",
      "100%|██████████| 1/1 [00:00<00:00, 174.10it/s]\n",
      "100%|██████████| 1/1 [00:00<00:00, 164.08it/s]\n",
      "100%|██████████| 1/1 [00:00<00:00, 179.75it/s]\n",
      "100%|██████████| 1/1 [00:00<00:00, 151.03it/s]\n",
      "100%|██████████| 1/1 [00:00<00:00, 162.53it/s]\n",
      "100%|██████████| 1/1 [00:00<00:00, 172.93it/s]\n",
      "100%|██████████| 1/1 [00:00<00:00, 172.32it/s]\n",
      "100%|██████████| 1/1 [00:00<00:00, 149.48it/s]\n",
      "100%|██████████| 1/1 [00:00<00:00, 144.22it/s]\n",
      "100%|██████████| 1/1 [00:00<00:00, 145.80it/s]\n",
      "100%|██████████| 1/1 [00:00<00:00, 151.18it/s]\n",
      "100%|██████████| 1/1 [00:00<00:00, 183.39it/s]\n",
      "100%|██████████| 1/1 [00:00<00:00, 163.63it/s]\n",
      "100%|██████████| 1/1 [00:00<00:00, 149.41it/s]\n",
      "100%|██████████| 1/1 [00:00<00:00, 181.87it/s]\n",
      "100%|██████████| 1/1 [00:00<00:00, 178.16it/s]\n",
      "100%|██████████| 1/1 [00:00<00:00, 170.05it/s]\n",
      "100%|██████████| 1/1 [00:00<00:00, 188.57it/s]\n",
      "100%|██████████| 1/1 [00:00<00:00, 166.89it/s]\n",
      "100%|██████████| 1/1 [00:00<00:00, 162.66it/s]\n",
      "100%|██████████| 1/1 [00:00<00:00, 182.40it/s]\n",
      "100%|██████████| 1/1 [00:00<00:00, 170.24it/s]\n",
      "100%|██████████| 1/1 [00:00<00:00, 157.98it/s]\n",
      "100%|██████████| 1/1 [00:00<00:00, 151.12it/s]\n",
      "100%|██████████| 1/1 [00:00<00:00, 153.21it/s]\n",
      "100%|██████████| 1/1 [00:00<00:00, 158.71it/s]\n",
      "100%|██████████| 1/1 [00:00<00:00, 167.43it/s]\n",
      "100%|██████████| 1/1 [00:00<00:00, 165.21it/s]\n",
      "100%|██████████| 1/1 [00:00<00:00, 169.89it/s]\n",
      "100%|██████████| 1/1 [00:00<00:00, 150.17it/s]\n",
      "100%|██████████| 1/1 [00:00<00:00, 152.08it/s]\n",
      "100%|██████████| 1/1 [00:00<00:00, 163.35it/s]\n",
      "100%|██████████| 1/1 [00:00<00:00, 169.36it/s]\n",
      "100%|██████████| 1/1 [00:00<00:00, 165.23it/s]\n",
      "100%|██████████| 1/1 [00:00<00:00, 168.61it/s]\n",
      "100%|██████████| 1/1 [00:00<00:00, 181.28it/s]\n",
      "100%|██████████| 1/1 [00:00<00:00, 175.46it/s]\n",
      "100%|██████████| 1/1 [00:00<00:00, 167.67it/s]\n",
      "100%|██████████| 1/1 [00:00<00:00, 172.40it/s]\n",
      "100%|██████████| 1/1 [00:00<00:00, 186.65it/s]\n",
      "100%|██████████| 1/1 [00:00<00:00, 170.62it/s]\n",
      "100%|██████████| 1/1 [00:00<00:00, 174.06it/s]\n",
      "100%|██████████| 1/1 [00:00<00:00, 173.72it/s]\n",
      "100%|██████████| 1/1 [00:00<00:00, 175.93it/s]\n",
      "100%|██████████| 1/1 [00:00<00:00, 178.85it/s]\n",
      "100%|██████████| 1/1 [00:00<00:00, 149.54it/s]\n",
      "100%|██████████| 1/1 [00:00<00:00, 165.59it/s]\n",
      "100%|██████████| 1/1 [00:00<00:00, 165.84it/s]\n",
      "100%|██████████| 1/1 [00:00<00:00, 163.65it/s]\n",
      "100%|██████████| 1/1 [00:00<00:00, 166.85it/s]\n",
      "100%|██████████| 1/1 [00:00<00:00, 157.74it/s]\n",
      "100%|██████████| 1/1 [00:00<00:00, 173.19it/s]\n",
      "100%|██████████| 1/1 [00:00<00:00, 154.01it/s]\n",
      "100%|██████████| 1/1 [00:00<00:00, 180.16it/s]\n",
      "100%|██████████| 1/1 [00:00<00:00, 175.13it/s]\n",
      "100%|██████████| 1/1 [00:00<00:00, 184.04it/s]\n",
      "100%|██████████| 1/1 [00:00<00:00, 158.52it/s]\n",
      "100%|██████████| 1/1 [00:00<00:00, 156.34it/s]\n",
      "100%|██████████| 1/1 [00:00<00:00, 179.04it/s]\n",
      "100%|██████████| 1/1 [00:00<00:00, 173.80it/s]\n",
      "100%|██████████| 1/1 [00:00<00:00, 172.66it/s]\n",
      "100%|██████████| 1/1 [00:00<00:00, 185.84it/s]\n",
      "100%|██████████| 1/1 [00:00<00:00, 160.56it/s]\n",
      "100%|██████████| 1/1 [00:00<00:00, 133.51it/s]\n",
      "100%|██████████| 1/1 [00:00<00:00, 173.13it/s]\n",
      "100%|██████████| 1/1 [00:00<00:00, 169.98it/s]\n",
      "100%|██████████| 1/1 [00:00<00:00, 178.92it/s]\n",
      "100%|██████████| 1/1 [00:00<00:00, 195.16it/s]\n",
      "100%|██████████| 1/1 [00:00<00:00, 176.22it/s]\n",
      "100%|██████████| 1/1 [00:00<00:00, 157.72it/s]\n",
      "100%|██████████| 1/1 [00:00<00:00, 167.10it/s]\n",
      "100%|██████████| 1/1 [00:00<00:00, 161.33it/s]\n",
      "100%|██████████| 1/1 [00:00<00:00, 171.04it/s]\n",
      "100%|██████████| 1/1 [00:00<00:00, 171.38it/s]\n",
      "100%|██████████| 1/1 [00:00<00:00, 176.04it/s]\n",
      "100%|██████████| 1/1 [00:00<00:00, 165.12it/s]\n",
      "100%|██████████| 1/1 [00:00<00:00, 184.64it/s]\n",
      "100%|██████████| 1/1 [00:00<00:00, 164.81it/s]\n",
      "100%|██████████| 1/1 [00:00<00:00, 168.06it/s]\n",
      "100%|██████████| 1/1 [00:00<00:00, 191.31it/s]\n",
      "100%|██████████| 1/1 [00:00<00:00, 193.84it/s]\n",
      "100%|██████████| 1/1 [00:00<00:00, 163.57it/s]\n",
      "100%|██████████| 1/1 [00:00<00:00, 193.65it/s]\n",
      "100%|██████████| 1/1 [00:00<00:00, 153.33it/s]\n",
      "100%|██████████| 1/1 [00:00<00:00, 173.90it/s]\n",
      "100%|██████████| 1/1 [00:00<00:00, 151.86it/s]\n",
      "100%|██████████| 1/1 [00:00<00:00, 184.75it/s]\n",
      "100%|██████████| 1/1 [00:00<00:00, 161.87it/s]\n",
      "100%|██████████| 1/1 [00:00<00:00, 150.33it/s]\n",
      "100%|██████████| 1/1 [00:00<00:00, 171.01it/s]\n",
      "100%|██████████| 1/1 [00:00<00:00, 191.29it/s]\n",
      "100%|██████████| 1/1 [00:00<00:00, 164.67it/s]\n",
      "100%|██████████| 1/1 [00:00<00:00, 163.85it/s]\n",
      "100%|██████████| 1/1 [00:00<00:00, 179.50it/s]\n",
      "100%|██████████| 1/1 [00:00<00:00, 156.53it/s]\n",
      "100%|██████████| 1/1 [00:00<00:00, 143.99it/s]\n",
      "100%|██████████| 1/1 [00:00<00:00, 149.26it/s]\n",
      "100%|██████████| 1/1 [00:00<00:00, 190.72it/s]\n",
      "100%|██████████| 1/1 [00:00<00:00, 176.08it/s]\n",
      "100%|██████████| 1/1 [00:00<00:00, 186.45it/s]\n",
      "100%|██████████| 1/1 [00:00<00:00, 167.92it/s]\n",
      "100%|██████████| 1/1 [00:00<00:00, 150.53it/s]\n",
      "100%|██████████| 1/1 [00:00<00:00, 157.68it/s]\n",
      "100%|██████████| 1/1 [00:00<00:00, 182.14it/s]\n",
      "100%|██████████| 1/1 [00:00<00:00, 187.17it/s]\n",
      "100%|██████████| 1/1 [00:00<00:00, 164.75it/s]\n",
      "100%|██████████| 1/1 [00:00<00:00, 178.19it/s]\n",
      "100%|██████████| 1/1 [00:00<00:00, 168.86it/s]\n",
      "100%|██████████| 1/1 [00:00<00:00, 150.24it/s]\n",
      "100%|██████████| 1/1 [00:00<00:00, 189.66it/s]\n",
      "100%|██████████| 1/1 [00:00<00:00, 173.31it/s]\n",
      "100%|██████████| 1/1 [00:00<00:00, 161.10it/s]\n",
      "100%|██████████| 1/1 [00:00<00:00, 170.47it/s]\n",
      "100%|██████████| 1/1 [00:00<00:00, 162.00it/s]\n",
      "100%|██████████| 1/1 [00:00<00:00, 172.12it/s]\n",
      "100%|██████████| 1/1 [00:00<00:00, 145.13it/s]\n",
      "100%|██████████| 1/1 [00:00<00:00, 161.45it/s]\n",
      "100%|██████████| 1/1 [00:00<00:00, 140.68it/s]\n",
      "100%|██████████| 1/1 [00:00<00:00, 165.95it/s]\n",
      "100%|██████████| 1/1 [00:00<00:00, 131.29it/s]\n",
      "100%|██████████| 1/1 [00:00<00:00, 172.62it/s]\n",
      "100%|██████████| 1/1 [00:00<00:00, 158.88it/s]\n",
      "100%|██████████| 1/1 [00:00<00:00, 167.81it/s]\n",
      "100%|██████████| 1/1 [00:00<00:00, 172.27it/s]\n",
      "100%|██████████| 1/1 [00:00<00:00, 181.33it/s]\n",
      "100%|██████████| 1/1 [00:00<00:00, 182.47it/s]\n",
      "100%|██████████| 1/1 [00:00<00:00, 168.05it/s]\n",
      "100%|██████████| 1/1 [00:00<00:00, 185.62it/s]\n",
      "100%|██████████| 1/1 [00:00<00:00, 164.35it/s]\n",
      "100%|██████████| 1/1 [00:00<00:00, 162.46it/s]\n",
      "100%|██████████| 1/1 [00:00<00:00, 159.95it/s]\n",
      "100%|██████████| 1/1 [00:00<00:00, 178.51it/s]\n",
      "100%|██████████| 1/1 [00:00<00:00, 159.34it/s]\n",
      "100%|██████████| 1/1 [00:00<00:00, 167.68it/s]\n",
      "100%|██████████| 1/1 [00:00<00:00, 154.72it/s]\n",
      "100%|██████████| 1/1 [00:00<00:00, 147.38it/s]\n",
      "100%|██████████| 1/1 [00:00<00:00, 159.32it/s]\n",
      "100%|██████████| 1/1 [00:00<00:00, 183.18it/s]\n",
      "100%|██████████| 1/1 [00:00<00:00, 171.25it/s]\n",
      "100%|██████████| 1/1 [00:00<00:00, 173.23it/s]\n",
      "100%|██████████| 1/1 [00:00<00:00, 171.66it/s]\n",
      "100%|██████████| 1/1 [00:00<00:00, 177.36it/s]\n",
      "100%|██████████| 1/1 [00:00<00:00, 178.82it/s]\n",
      "100%|██████████| 1/1 [00:00<00:00, 167.64it/s]\n",
      "100%|██████████| 1/1 [00:00<00:00, 161.49it/s]\n",
      "100%|██████████| 1/1 [00:00<00:00, 174.34it/s]\n",
      "100%|██████████| 1/1 [00:00<00:00, 177.08it/s]\n",
      "100%|██████████| 1/1 [00:00<00:00, 173.01it/s]\n",
      "100%|██████████| 1/1 [00:00<00:00, 162.50it/s]\n",
      "100%|██████████| 1/1 [00:00<00:00, 173.58it/s]\n",
      "100%|██████████| 1/1 [00:00<00:00, 148.29it/s]\n",
      "100%|██████████| 1/1 [00:00<00:00, 173.94it/s]\n",
      "100%|██████████| 1/1 [00:00<00:00, 178.48it/s]\n",
      "100%|██████████| 1/1 [00:00<00:00, 154.78it/s]\n",
      "100%|██████████| 1/1 [00:00<00:00, 166.22it/s]\n",
      "100%|██████████| 1/1 [00:00<00:00, 172.04it/s]\n",
      "100%|██████████| 1/1 [00:00<00:00, 162.77it/s]\n",
      "100%|██████████| 1/1 [00:00<00:00, 161.71it/s]\n",
      "100%|██████████| 1/1 [00:00<00:00, 175.97it/s]\n",
      "100%|██████████| 1/1 [00:00<00:00, 174.31it/s]\n",
      "100%|██████████| 1/1 [00:00<00:00, 151.69it/s]\n",
      "100%|██████████| 1/1 [00:00<00:00, 188.47it/s]\n",
      "100%|██████████| 1/1 [00:00<00:00, 174.83it/s]\n",
      "100%|██████████| 1/1 [00:00<00:00, 172.59it/s]\n",
      "100%|██████████| 1/1 [00:00<00:00, 163.36it/s]\n",
      "100%|██████████| 1/1 [00:00<00:00, 181.42it/s]\n",
      "100%|██████████| 1/1 [00:00<00:00, 180.28it/s]\n",
      "100%|██████████| 1/1 [00:00<00:00, 182.30it/s]\n",
      "100%|██████████| 1/1 [00:00<00:00, 185.97it/s]\n",
      "100%|██████████| 1/1 [00:00<00:00, 182.10it/s]\n",
      "100%|██████████| 1/1 [00:00<00:00, 171.43it/s]\n",
      "100%|██████████| 1/1 [00:00<00:00, 152.10it/s]\n",
      "100%|██████████| 1/1 [00:00<00:00, 166.41it/s]\n",
      "100%|██████████| 1/1 [00:00<00:00, 173.97it/s]\n",
      "100%|██████████| 1/1 [00:00<00:00, 150.59it/s]\n"
     ]
    }
   ],
   "source": [
    "with h5py.File('/gpfs/gpfs0/3ddl/sharp_features/data_v2_cvpr/images/high_res.json/0.0/train/train_0.hdf5', 'r') as f:\n",
    "    d = torch.flatten(torch.from_numpy(f['distances'][:]), start_dim=1).numpy()[None, 8886]\n",
    "# d.shape\n",
    "thr_d = np.zeros_like(d)\n",
    "thr_d[d < 0.02] = 1\n",
    "\n",
    "ba = []\n",
    "iou = []\n",
    "for addr in addrs:\n",
    "    with h5py.File(addr, 'r') as f:\n",
    "        v = f['distances'][:]\n",
    "#     ba_small = []\n",
    "#     iou_small = []\n",
    "    for i in tqdm(range(len(v))):\n",
    "        ba.append(balanced_accuracy_score(thr_d[i], v[i]))\n",
    "        iou.append(jaccard_score(thr_d[i], v[i]))\n",
    "#     ba.append(ba_small)\n",
    "#     iou.append(iou_small)"
   ]
  },
  {
   "cell_type": "code",
   "execution_count": 68,
   "metadata": {},
   "outputs": [
    {
     "data": {
      "text/plain": [
       "891"
      ]
     },
     "execution_count": 68,
     "metadata": {},
     "output_type": "execute_result"
    }
   ],
   "source": [
    "len(addrs)"
   ]
  },
  {
   "cell_type": "code",
   "execution_count": 104,
   "metadata": {},
   "outputs": [
    {
     "data": {
      "text/plain": [
       "'voronoi/v2/high_res/0.0/crap/0.05_0.1_0.3.hdf5.hdf5'"
      ]
     },
     "execution_count": 104,
     "metadata": {},
     "output_type": "execute_result"
    }
   ],
   "source": [
    "addrs[np.array(ba).argmax()]"
   ]
  },
  {
   "cell_type": "code",
   "execution_count": 100,
   "metadata": {},
   "outputs": [
    {
     "data": {
      "text/plain": [
       "94"
      ]
     },
     "execution_count": 100,
     "metadata": {},
     "output_type": "execute_result"
    }
   ],
   "source": [
    "np.array(ba).argmax()"
   ]
  },
  {
   "cell_type": "code",
   "execution_count": 80,
   "metadata": {},
   "outputs": [
    {
     "data": {
      "text/plain": [
       "array([[[ 14.10760198,  14.10971501,  14.11225638, ...,  14.5567128 ,\n",
       "          14.5699286 ,  14.58393303],\n",
       "        [ 14.09828231,  14.10047608,  14.1034042 , ...,  14.5466427 ,\n",
       "          14.5598585 ,  14.57378318],\n",
       "        [ 14.08896264,  14.0916239 ,  14.09455203, ...,  14.5365726 ,\n",
       "          14.5497884 ,  14.56363334],\n",
       "        ...,\n",
       "        [ 13.85509906,  13.85713494,  13.85917083, ...,  14.2581205 ,\n",
       "          14.27009008,  14.28285788],\n",
       "        [ 13.85563463,  13.85767052,  13.8597064 , ...,  14.25842823,\n",
       "          14.27088176,  14.28364956],\n",
       "        [ 13.8561702 ,  13.85820609,  13.86024198, ...,  14.25890563,\n",
       "          14.27167343,  14.28444124]],\n",
       "\n",
       "       [[ 81.30263688,  81.29103626,  81.27943564, ...,  80.63634057,\n",
       "          80.62613353,  80.61592649],\n",
       "        [ 81.31319463,  81.30159401,  81.28999339, ...,  80.64699815,\n",
       "          80.63679111,  80.62658407],\n",
       "        [ 81.32375237,  81.31215175,  81.30055113, ...,  80.65765574,\n",
       "          80.6474487 ,  80.63724166],\n",
       "        ...,\n",
       "        [ 81.95341188,  81.94130511,  81.92919834, ...,  81.27875166,\n",
       "          81.26838478,  81.25801791],\n",
       "        [ 81.96441396,  81.95230719,  81.94020042, ...,  81.28962853,\n",
       "          81.27926166,  81.26889478],\n",
       "        [ 81.97541604,  81.96330927,  81.9512025 , ...,  81.3005054 ,\n",
       "          81.29013853,  81.27977165]],\n",
       "\n",
       "       [[104.549959  , 104.5312721 , 104.5125852 , ..., 103.41005812,\n",
       "         103.39137122, 103.37268432],\n",
       "        [104.56514985, 104.54646295, 104.52777605, ..., 103.42524897,\n",
       "         103.40656207, 103.38787517],\n",
       "        [104.5803407 , 104.5616538 , 104.5429669 , ..., 103.44043982,\n",
       "         103.42175292, 103.40306602],\n",
       "        ...,\n",
       "        [105.47660095, 105.45791405, 105.43922715, ..., 104.33670007,\n",
       "         104.31801317, 104.29932627],\n",
       "        [105.4917918 , 105.4731049 , 105.454418  , ..., 104.35189092,\n",
       "         104.33320402, 104.31451712],\n",
       "        [105.50698265, 105.48829575, 105.46960885, ..., 104.36708177,\n",
       "         104.34839487, 104.32970797]],\n",
       "\n",
       "       ...,\n",
       "\n",
       "       [[ 67.30197299,  67.3123609 ,  67.32274881, ...,  67.52394099,\n",
       "          67.52428885,  67.5246367 ],\n",
       "        [ 67.28513254,  67.29552045,  67.30590835, ...,  67.51063437,\n",
       "          67.51098222,  67.51133008],\n",
       "        [ 67.26829208,  67.27867999,  67.2890679 , ...,  67.49732774,\n",
       "          67.4976756 ,  67.49802346],\n",
       "        ...,\n",
       "        [ 66.33286129,  66.34325988,  66.35365846, ...,  66.76289602,\n",
       "          66.7633035 ,  66.76371098],\n",
       "        [ 66.31756864,  66.32796723,  66.33836581, ...,  66.75132218,\n",
       "          66.75172966,  66.75213714],\n",
       "        [ 66.30227599,  66.31267458,  66.32307316, ...,  66.73974834,\n",
       "          66.74015582,  66.7405633 ]],\n",
       "\n",
       "       [[110.36869077, 110.35349992, 110.33830906, ..., 109.44204882,\n",
       "         109.42685797, 109.41166712],\n",
       "        [110.35000387, 110.33481302, 110.31962217, ..., 109.42336192,\n",
       "         109.40817107, 109.39298022],\n",
       "        [110.33131697, 110.31612612, 110.30093527, ..., 109.40467502,\n",
       "         109.38948417, 109.37429332],\n",
       "        ...,\n",
       "        [109.23526892, 109.23526892, 109.23526892, ..., 109.23526892,\n",
       "         109.23526892, 109.23526892],\n",
       "        [109.25667429, 109.25667429, 109.25667429, ..., 109.25667429,\n",
       "         109.25667429, 109.25667429],\n",
       "        [109.27807966, 109.27807966, 109.27807966, ..., 109.27807966,\n",
       "         109.27807966, 109.27807966]],\n",
       "\n",
       "       [[106.54091211, 106.54091211, 106.54091211, ..., 106.54091211,\n",
       "         106.54091211, 106.54091211],\n",
       "        [106.53396515, 106.53396515, 106.53396515, ..., 106.53396515,\n",
       "         106.53396515, 106.53396515],\n",
       "        [106.52701819, 106.52701819, 106.52701819, ..., 106.52701819,\n",
       "         106.52701819, 106.52701819],\n",
       "        ...,\n",
       "        [106.11714737, 106.11714737, 106.11714737, ..., 106.11714737,\n",
       "         106.11714737, 106.11714737],\n",
       "        [106.11020041, 106.11020041, 106.11020041, ..., 106.11020041,\n",
       "         106.11020041, 106.11020041],\n",
       "        [106.10325345, 106.10325345, 106.10325345, ..., 106.10325345,\n",
       "         106.10325345, 106.10325345]]])"
      ]
     },
     "execution_count": 80,
     "metadata": {},
     "output_type": "execute_result"
    }
   ],
   "source": [
    "data"
   ]
  },
  {
   "cell_type": "code",
   "execution_count": 82,
   "metadata": {},
   "outputs": [
    {
     "data": {
      "text/plain": [
       "(1, 4096)"
      ]
     },
     "execution_count": 82,
     "metadata": {},
     "output_type": "execute_result"
    }
   ],
   "source": [
    "v.shape"
   ]
  },
  {
   "cell_type": "code",
   "execution_count": 87,
   "metadata": {},
   "outputs": [
    {
     "data": {
      "text/plain": [
       "1.0"
      ]
     },
     "execution_count": 87,
     "metadata": {},
     "output_type": "execute_result"
    }
   ],
   "source": [
    "ba[5]"
   ]
  },
  {
   "cell_type": "code",
   "execution_count": 88,
   "metadata": {},
   "outputs": [
    {
     "data": {
      "text/plain": [
       "array([[0., 0., 0., ..., 0., 0., 0.]], dtype=float32)"
      ]
     },
     "execution_count": 88,
     "metadata": {},
     "output_type": "execute_result"
    }
   ],
   "source": [
    "v"
   ]
  },
  {
   "cell_type": "code",
   "execution_count": 90,
   "metadata": {},
   "outputs": [
    {
     "data": {
      "text/plain": [
       "0.0"
      ]
     },
     "execution_count": 90,
     "metadata": {},
     "output_type": "execute_result"
    }
   ],
   "source": [
    "thr_d[i].sum()"
   ]
  },
  {
   "cell_type": "code",
   "execution_count": null,
   "metadata": {},
   "outputs": [],
   "source": []
  },
  {
   "cell_type": "code",
   "execution_count": null,
   "metadata": {},
   "outputs": [],
   "source": []
  },
  {
   "cell_type": "code",
   "execution_count": null,
   "metadata": {},
   "outputs": [],
   "source": []
  },
  {
   "cell_type": "code",
   "execution_count": 19,
   "metadata": {},
   "outputs": [],
   "source": [
    "with h5py.File('/gpfs/gpfs0/3ddl/sharp_features/data_v2_cvpr/images/high_res.json//0.0/val_with_normals_and_voronoi/train_0.hdf5', 'r') as f:\n",
    "#     print(list(f.keys()))\n",
    "    data = f['image'][:]\n",
    "    label = torch.flatten(torch.from_numpy(f['distances'][:]), start_dim=1).numpy()\n",
    "#     label = f['distances'][:]\n",
    "#     n = f['normals'][:]\n",
    "    v = f['voronoi'][:]\n",
    "#     n_10 = f['normals_estimation_10'][:]\n",
    "#     n_100 = f['normals_estimation_100'][:]\n",
    "#     n_s = f['num_surfaces'][:]\n",
    "    \n",
    "with h5py.File('/gpfs/gpfs0/3ddl/sharp_features/data_v2_cvpr/images/high_res.json//0.0/val_with_normals_and_voronoi/train_1.hdf5', 'r') as f:\n",
    "#     print(list(f.keys()))\n",
    "    data = np.concatenate([data, f['image'][:]], axis=0)\n",
    "    label = np.concatenate([label, torch.flatten(torch.from_numpy(f['distances'][:]), start_dim=1).numpy()], axis=0)\n",
    "#     label = np.concatenate([label, f['distances'][:]], axis=0)\n",
    "#     n = np.concatenate([n, f['normals'][:]], axis=0)\n",
    "    v = np.concatenate([v, f['voronoi'][:]], axis=0)\n",
    "#     n_10 = np.concatenate([n_10, f['normals_estimation_10'][:]], axis=0)\n",
    "#     n_100 = np.concatenate([n_100, f['normals_estimation_100'][:]], axis=0)\n",
    "#     n_s = np.concatenate([n_s,f['num_surfaces'][:]], axis=0)"
   ]
  },
  {
   "cell_type": "code",
   "execution_count": 51,
   "metadata": {},
   "outputs": [],
   "source": [
    "from sklearn.metrics import balanced_accuracy_score, jaccard_score\n",
    "\n",
    "label_thr = np.zeros_like(label)\n",
    "label_thr[label < 0.02] = 1"
   ]
  },
  {
   "cell_type": "code",
   "execution_count": 20,
   "metadata": {},
   "outputs": [
    {
     "name": "stderr",
     "output_type": "stream",
     "text": [
      "100%|██████████| 32768/32768 [07:08<00:00, 76.39it/s] \n"
     ]
    }
   ],
   "source": [
    "pred = []\n",
    "for i in tqdm(range(len(v))):\n",
    "    pred.append(np.load('/gpfs/gpfs0/3ddl/sharp_features/old_experiments/baseline-image/predictions/val_'+str(i)+'.npy'))\n",
    "#     pred_thr = np.zeros_like(pred)\n",
    "#     pred_thr[pred < 0.02] = 1\n",
    "# pred = np.load('pointnet_outputs/v2/dgcnn_4k_hist/val/pred.npy')\n",
    "# pred.shape"
   ]
  },
  {
   "cell_type": "code",
   "execution_count": 5,
   "metadata": {},
   "outputs": [
    {
     "ename": "NameError",
     "evalue": "name 'v' is not defined",
     "output_type": "error",
     "traceback": [
      "\u001b[0;31m---------------------------------------------------------------------------\u001b[0m",
      "\u001b[0;31mNameError\u001b[0m                                 Traceback (most recent call last)",
      "\u001b[0;32m<ipython-input-5-a38eaa4fc0c3>\u001b[0m in \u001b[0;36m<module>\u001b[0;34m\u001b[0m\n\u001b[0;32m----> 1\u001b[0;31m \u001b[0mv\u001b[0m\u001b[0;34m.\u001b[0m\u001b[0mshape\u001b[0m\u001b[0;34m\u001b[0m\u001b[0;34m\u001b[0m\u001b[0m\n\u001b[0m",
      "\u001b[0;31mNameError\u001b[0m: name 'v' is not defined"
     ]
    }
   ],
   "source": [
    "v.shape"
   ]
  },
  {
   "cell_type": "code",
   "execution_count": 8,
   "metadata": {},
   "outputs": [],
   "source": [
    "pred = np.array(pred)"
   ]
  },
  {
   "cell_type": "code",
   "execution_count": 10,
   "metadata": {},
   "outputs": [
    {
     "data": {
      "text/plain": [
       "(31796, 4096)"
      ]
     },
     "execution_count": 10,
     "metadata": {},
     "output_type": "execute_result"
    }
   ],
   "source": [
    "pred.shape"
   ]
  },
  {
   "cell_type": "code",
   "execution_count": 12,
   "metadata": {},
   "outputs": [],
   "source": [
    "pred_thr = np.zeros_like(pred)\n",
    "pred_thr[pred < 0.02] = 1"
   ]
  },
  {
   "cell_type": "code",
   "execution_count": 13,
   "metadata": {},
   "outputs": [
    {
     "data": {
      "text/plain": [
       "0.011675092930046269"
      ]
     },
     "execution_count": 13,
     "metadata": {},
     "output_type": "execute_result"
    }
   ],
   "source": [
    "np.sqrt(((pred - label) ** 2).mean(-1)).mean()"
   ]
  },
  {
   "cell_type": "code",
   "execution_count": 21,
   "metadata": {},
   "outputs": [],
   "source": [
    "sh = np.concatenate([np.load('sharpness/sh_f_10_images_0.npy'), np.load('sharpness/sh_f_10_images_1.npy')], axis=0)"
   ]
  },
  {
   "cell_type": "code",
   "execution_count": 22,
   "metadata": {},
   "outputs": [
    {
     "name": "stderr",
     "output_type": "stream",
     "text": [
      "100%|██████████| 9/9 [00:12<00:00,  1.41s/it]\n"
     ]
    }
   ],
   "source": [
    "mses = []\n",
    "for i in tqdm([0.02,0.03, 0.04, 0.05,0.06, 0.07, 0.08, 0.09, 0.1]):\n",
    "    label_new = label / i\n",
    "    label_new[label_new > 1] = 1\n",
    "    mses.append(np.sqrt((((1-sh) - label_new) ** 2).mean(-1)))"
   ]
  },
  {
   "cell_type": "code",
   "execution_count": 23,
   "metadata": {},
   "outputs": [
    {
     "data": {
      "text/plain": [
       "4"
      ]
     },
     "execution_count": 23,
     "metadata": {},
     "output_type": "execute_result"
    }
   ],
   "source": [
    "np.array(mses).mean(-1).argmin()"
   ]
  },
  {
   "cell_type": "code",
   "execution_count": 25,
   "metadata": {},
   "outputs": [
    {
     "data": {
      "image/png": "[encoded data removed]",
      "text/plain": [
       "<Figure size 432x288 with 1 Axes>"
      ]
     },
     "metadata": {
      "needs_background": "light"
     },
     "output_type": "display_data"
    }
   ],
   "source": [
    "_data = 'images'\n",
    "_type = 'RMSE'\n",
    "_type_sh = 'rmse'\n",
    "net = np.sqrt(((pred - label) ** 2).mean(-1))\n",
    "vor = mses[4]\n",
    "\n",
    "plt.hist(net, bins=100, range=(0,1), log=False, \n",
    "         label='DGCNN, {:.3}'.format(net.mean()), alpha=0.5)\n",
    "plt.hist(vor, bins=100, range=(0,1), log=False, \n",
    "         label='ShF 10, {:.3}'.format(vor.mean()), alpha=0.5)\n",
    "# plt.axvline(np.quantile(net, 0.95), color='k', linestyle='dashed', linewidth=1, \n",
    "#             label='95% DGCNN, {:.3}'.format(np.quantile(net, 0.95)))\n",
    "# plt.axvline(np.quantile(vor, 0.95), color='r', linestyle='dashed', linewidth=1,\n",
    "#             label='95% Voronoi, {:.3}'.format(np.quantile(vor, 0.95)))\n",
    "plt.legend()\n",
    "plt.xlabel('{} per patch value'.format(_type))\n",
    "plt.ylabel('# of patches')\n",
    "plt.title('{} val {} histogram: DGCNN vs ShF 10'.format(_data,_type))\n",
    "# plt.savefig('sh_10_i_{}_hist.pdf'.format(_type_sh))\n",
    "plt.show()"
   ]
  },
  {
   "cell_type": "code",
   "execution_count": 9,
   "metadata": {},
   "outputs": [
    {
     "data": {
      "text/plain": [
       "(31796, 4096)"
      ]
     },
     "execution_count": 9,
     "metadata": {},
     "output_type": "execute_result"
    }
   ],
   "source": [
    "sh.shape"
   ]
  },
  {
   "cell_type": "code",
   "execution_count": 70,
   "metadata": {},
   "outputs": [],
   "source": [
    "sh_thr = np.zeros_like(sh)\n",
    "sh_thr[1-sh < 0.6] = 1"
   ]
  },
  {
   "cell_type": "code",
   "execution_count": 65,
   "metadata": {},
   "outputs": [
    {
     "name": "stderr",
     "output_type": "stream",
     "text": [
      "100%|██████████| 32768/32768 [05:08<00:00, 106.23it/s]\n"
     ]
    }
   ],
   "source": [
    "# iou_net = []\n",
    "# # iou_net_r = []\n",
    "# ba_net = []\n",
    "# iou_v = []\n",
    "# # iou_v_r = []\n",
    "# ba_v = []\n",
    "\n",
    "# for i in tqdm(range(len(v))):\n",
    "# #     pred = np.load('/gpfs/gpfs0/3ddl/sharp_features/experiments/baseline-image/predictions/val_'+str(i)+'.npy')\n",
    "# #     pred_thr = np.zeros_like(pred)\n",
    "# #     pred_thr[pred < 0.02] = 1\n",
    "#     iou_net.append(jaccard_score(label_thr[i], pred_thr[i]))\n",
    "# #     iou_net_r.append(jaccard_score(1-label_thr[i], 1-pred_thr[i]))\n",
    "#     ba_net.append(balanced_accuracy_score(label_thr[i], pred_thr[i]))\n",
    "    \n",
    "#     iou_v.append(jaccard_score(label_thr[i], v[i]))\n",
    "# #     iou_v_r.append(jaccard_score(1-label_thr[i], 1-v[i]))\n",
    "#     ba_v.append(balanced_accuracy_score(label_thr[i], v[i]))"
   ]
  },
  {
   "cell_type": "code",
   "execution_count": 55,
   "metadata": {},
   "outputs": [
    {
     "name": "stderr",
     "output_type": "stream",
     "text": [
      "  0%|          | 0/32768 [00:00<?, ?it/s]/trinity/home/a.matveev/.local/lib/python3.6/site-packages/sklearn/metrics/_classification.py:1272: UndefinedMetricWarning: Jaccard is ill-defined and being set to 0.0 due to no true or predicted samples. Use `zero_division` parameter to control this behavior.\n",
      "  _warn_prf(average, modifier, msg_start, len(result))\n",
      "/trinity/home/a.matveev/.local/lib/python3.6/site-packages/sklearn/metrics/_classification.py:1859: UserWarning: y_pred contains classes not in y_true\n",
      "  warnings.warn('y_pred contains classes not in y_true')\n",
      "100%|██████████| 32768/32768 [50:05<00:00, 10.90it/s]\n"
     ]
    }
   ],
   "source": [
    "iou_net = []\n",
    "# iou_net_r = []\n",
    "ba_net = []\n",
    "iou_sh = []\n",
    "# iou_v_r = []\n",
    "ba_sh = []\n",
    "\n",
    "for i in tqdm(range(len(sh))):\n",
    "    iou_sh_small = []\n",
    "    ba_sh_small = []\n",
    "    pred = np.load('/gpfs/gpfs0/3ddl/sharp_features/old_experiments/baseline-image/predictions/val_'+str(i)+'.npy')\n",
    "    pred_thr = np.zeros_like(pred)\n",
    "    pred_thr[pred < 0.02] = 1\n",
    "    iou_net.append(jaccard_score(label_thr[i], pred_thr))\n",
    "#     iou_net_r.append(jaccard_score(1-label_thr[i], 1-pred_thr[i]))\n",
    "    ba_net.append(balanced_accuracy_score(label_thr[i], pred_thr))\n",
    "    \n",
    "    for j in [0.02,0.05,0.1,0.2,0.3,0.4,0.5,0.6,0.7,0.8,0.9,1]:\n",
    "        sh_thr = np.zeros_like(sh[i])\n",
    "        sh_thr[1-sh[i] < j] = 1\n",
    "        iou_sh_small.append(jaccard_score(label_thr[i], sh_thr))\n",
    "    #     iou_v_r.append(jaccard_score(1-label_thr[i], 1-v[i]))\n",
    "        ba_sh_small.append(balanced_accuracy_score(label_thr[i], sh_thr))\n",
    "    iou_sh.append(iou_sh_small)\n",
    "    ba_sh.append(ba_sh_small)"
   ]
  },
  {
   "cell_type": "code",
   "execution_count": 56,
   "metadata": {},
   "outputs": [],
   "source": [
    "# ba_v = np.array(ba_v)\n",
    "# iou_v = np.array(iou_v)\n",
    "ba_sh = np.array(ba_sh)\n",
    "iou_sh = np.array(iou_sh)\n",
    "ba_net = np.array(ba_net)\n",
    "iou_net = np.array(iou_net)"
   ]
  },
  {
   "cell_type": "code",
   "execution_count": 57,
   "metadata": {},
   "outputs": [
    {
     "data": {
      "text/plain": [
       "7"
      ]
     },
     "execution_count": 57,
     "metadata": {},
     "output_type": "execute_result"
    }
   ],
   "source": [
    "((iou_sh.mean(0)+ba_sh.mean(0))/2).argmax()"
   ]
  },
  {
   "cell_type": "code",
   "execution_count": 61,
   "metadata": {},
   "outputs": [
    {
     "data": {
      "text/plain": [
       "6"
      ]
     },
     "execution_count": 61,
     "metadata": {},
     "output_type": "execute_result"
    }
   ],
   "source": [
    "iou_sh.mean(0).argmax()"
   ]
  },
  {
   "cell_type": "code",
   "execution_count": 62,
   "metadata": {},
   "outputs": [
    {
     "data": {
      "text/plain": [
       "6"
      ]
     },
     "execution_count": 62,
     "metadata": {},
     "output_type": "execute_result"
    }
   ],
   "source": [
    "iou_sh[sel].mean(0).argmax()"
   ]
  },
  {
   "cell_type": "code",
   "execution_count": 60,
   "metadata": {},
   "outputs": [
    {
     "data": {
      "text/plain": [
       "9"
      ]
     },
     "execution_count": 60,
     "metadata": {},
     "output_type": "execute_result"
    }
   ],
   "source": [
    "ba_sh.mean(0).argmax()"
   ]
  },
  {
   "cell_type": "code",
   "execution_count": 37,
   "metadata": {},
   "outputs": [
    {
     "data": {
      "text/plain": [
       "8"
      ]
     },
     "execution_count": 37,
     "metadata": {},
     "output_type": "execute_result"
    }
   ],
   "source": [
    "ba_sh[sel].mean(0).argmax()"
   ]
  },
  {
   "cell_type": "code",
   "execution_count": null,
   "metadata": {},
   "outputs": [],
   "source": []
  },
  {
   "cell_type": "code",
   "execution_count": 63,
   "metadata": {},
   "outputs": [],
   "source": [
    "import k3d\n",
    "import matplotlib.pyplot as plt\n",
    "import matplotlib as mpl\n",
    "import matplotlib.cm as cm"
   ]
  },
  {
   "cell_type": "code",
   "execution_count": 64,
   "metadata": {},
   "outputs": [],
   "source": [
    "sel = label.sum(-1) < 4096"
   ]
  },
  {
   "cell_type": "code",
   "execution_count": 67,
   "metadata": {},
   "outputs": [
    {
     "data": {
      "image/png": "[encoded data removed]",
      "text/plain": [
       "<Figure size 432x288 with 1 Axes>"
      ]
     },
     "metadata": {
      "needs_background": "light"
     },
     "output_type": "display_data"
    }
   ],
   "source": [
    "_data = 'Images'\n",
    "_type = 'IoU'\n",
    "_type_sh = 'iou_no_flat'\n",
    "net = iou_net[sel]\n",
    "vor = iou_sh[sel,7]\n",
    "\n",
    "plt.hist(net, bins=100, range=(0,1), log=True, \n",
    "         label='DGCNN, {:.3}'.format(net.mean()), alpha=0.5)\n",
    "plt.hist(vor, bins=100, range=(0,1), log=True, \n",
    "         label='ShF 10, {:.3}'.format(vor.mean()), alpha=0.5)\n",
    "# plt.axvline(np.quantile(net, 0.95), color='k', linestyle='dashed', linewidth=1, \n",
    "#             label='95% DGCNN, {:.3}'.format(np.quantile(net, 0.95)))\n",
    "# plt.axvline(np.quantile(vor, 0.95), color='r', linestyle='dashed', linewidth=1,\n",
    "#             label='95% Voronoi, {:.3}'.format(np.quantile(vor, 0.95)))\n",
    "plt.legend()\n",
    "plt.xlabel('{} per patch value'.format(_type))\n",
    "plt.ylabel('# of patches')\n",
    "plt.title('{} val {} histogram: DGCNN vs ShF 10'.format(_data,_type))\n",
    "plt.savefig('sh_10_opt_i_{}_hist.pdf'.format(_type_sh))\n",
    "plt.show()"
   ]
  },
  {
   "cell_type": "code",
   "execution_count": 69,
   "metadata": {},
   "outputs": [
    {
     "data": {
      "image/png": "[encoded data removed]",
      "text/plain": [
       "<Figure size 432x288 with 1 Axes>"
      ]
     },
     "metadata": {
      "needs_background": "light"
     },
     "output_type": "display_data"
    }
   ],
   "source": [
    "_data = 'Images'\n",
    "_type = 'Balanced Accuracy'\n",
    "_type_sh = 'ba'\n",
    "net = ba_net\n",
    "vor = ba_sh[:,7]\n",
    "\n",
    "plt.hist(net, bins=100, range=(0,1), log=True, \n",
    "         label='DGCNN, {:.3}'.format(net.mean()), alpha=0.5)\n",
    "plt.hist(vor, bins=100, range=(0,1), log=True, \n",
    "         label='ShF 10, {:.3}'.format(vor.mean()), alpha=0.5)\n",
    "# plt.axvline(np.quantile(net, 0.95), color='k', linestyle='dashed', linewidth=1, \n",
    "#             label='95% DGCNN, {:.3}'.format(np.quantile(net, 0.95)))\n",
    "# plt.axvline(np.quantile(vor, 0.95), color='r', linestyle='dashed', linewidth=1,\n",
    "#             label='95% Voronoi, {:.3}'.format(np.quantile(vor, 0.95)))\n",
    "plt.legend()\n",
    "plt.xlabel('{} per patch value'.format(_type))\n",
    "plt.ylabel('# of patches')\n",
    "plt.xlim(-0.01, 1.01)\n",
    "plt.title('{} val {} histogram: DGCNN vs ShF 10'.format(_data,_type))\n",
    "plt.savefig('sh_10_opt_i_{}_hist.pdf'.format(_type_sh))\n",
    "plt.show()"
   ]
  },
  {
   "cell_type": "code",
   "execution_count": 37,
   "metadata": {},
   "outputs": [
    {
     "ename": "IndexError",
     "evalue": "boolean index did not match indexed array along dimension 0; dimension is 32768 but corresponding boolean dimension is 31796",
     "output_type": "error",
     "traceback": [
      "\u001b[0;31m---------------------------------------------------------------------------\u001b[0m",
      "\u001b[0;31mIndexError\u001b[0m                                Traceback (most recent call last)",
      "\u001b[0;32m<ipython-input-37-7945460a5c0a>\u001b[0m in \u001b[0;36m<module>\u001b[0;34m\u001b[0m\n\u001b[1;32m      2\u001b[0m \u001b[0m_type\u001b[0m \u001b[0;34m=\u001b[0m \u001b[0;34m'IoU'\u001b[0m\u001b[0;34m\u001b[0m\u001b[0;34m\u001b[0m\u001b[0m\n\u001b[1;32m      3\u001b[0m \u001b[0m_type_sh\u001b[0m \u001b[0;34m=\u001b[0m \u001b[0;34m'iou_no_flat'\u001b[0m\u001b[0;34m\u001b[0m\u001b[0;34m\u001b[0m\u001b[0m\n\u001b[0;32m----> 4\u001b[0;31m \u001b[0mnet\u001b[0m \u001b[0;34m=\u001b[0m \u001b[0miou_net\u001b[0m\u001b[0;34m[\u001b[0m\u001b[0msel\u001b[0m\u001b[0;34m]\u001b[0m\u001b[0;34m\u001b[0m\u001b[0;34m\u001b[0m\u001b[0m\n\u001b[0m\u001b[1;32m      5\u001b[0m \u001b[0mvor\u001b[0m \u001b[0;34m=\u001b[0m \u001b[0miou_v\u001b[0m\u001b[0;34m[\u001b[0m\u001b[0msel\u001b[0m\u001b[0;34m]\u001b[0m\u001b[0;34m\u001b[0m\u001b[0;34m\u001b[0m\u001b[0m\n\u001b[1;32m      6\u001b[0m \u001b[0;34m\u001b[0m\u001b[0m\n",
      "\u001b[0;31mIndexError\u001b[0m: boolean index did not match indexed array along dimension 0; dimension is 32768 but corresponding boolean dimension is 31796"
     ]
    }
   ],
   "source": [
    "# _data = 'Images'\n",
    "# _type = 'IoU'\n",
    "# _type_sh = 'iou_no_flat'\n",
    "# net = iou_net[sel]\n",
    "# vor = iou_v[sel]\n",
    "\n",
    "# plt.hist(net, bins=100, range=(0,1), log=False, \n",
    "#          label='DGCNN, {:.3}'.format(net.mean()), alpha=0.5)\n",
    "# plt.hist(vor, bins=100, range=(0,1), log=False, \n",
    "#          label='Voronoi, {:.3}'.format(vor.mean()), alpha=0.5)\n",
    "# # plt.axvline(np.quantile(net, 0.95), color='k', linestyle='dashed', linewidth=1, \n",
    "# #             label='95% DGCNN, {:.3}'.format(np.quantile(net, 0.95)))\n",
    "# # plt.axvline(np.quantile(vor, 0.95), color='r', linestyle='dashed', linewidth=1,\n",
    "# #             label='95% Voronoi, {:.3}'.format(np.quantile(vor, 0.95)))\n",
    "# plt.legend()\n",
    "# plt.xlabel('{} per patch value'.format(_type))\n",
    "# plt.ylabel('# of patches')\n",
    "# plt.title('{} val {} histogram: DGCNN vs Voronoi'.format(_data,_type))\n",
    "# # plt.savefig('dgcnn_{}_hist.pdf'.format(_type_sh))\n",
    "# plt.show()"
   ]
  },
  {
   "cell_type": "code",
   "execution_count": 70,
   "metadata": {},
   "outputs": [
    {
     "data": {
      "image/png": "[encoded data removed]",
      "text/plain": [
       "<Figure size 432x288 with 1 Axes>"
      ]
     },
     "metadata": {
      "needs_background": "light"
     },
     "output_type": "display_data"
    }
   ],
   "source": [
    "# _data = 'Images'\n",
    "# _type = 'Balanced Accuracy'\n",
    "# _type_sh = 'ba'\n",
    "# net = ba_net\n",
    "# vor = ba_v\n",
    "\n",
    "# plt.hist(net, bins=100, range=(0,1), log=False, \n",
    "#          label='DGCNN, {:.3}'.format(net.mean()), alpha=0.5)\n",
    "# plt.hist(vor, bins=100, range=(0,1), log=False, \n",
    "#          label='Voronoi, {:.3}'.format(vor.mean()), alpha=0.5)\n",
    "# # plt.axvline(np.quantile(net, 0.95), color='k', linestyle='dashed', linewidth=1, \n",
    "# #             label='95% DGCNN, {:.3}'.format(np.quantile(net, 0.95)))\n",
    "# # plt.axvline(np.quantile(vor, 0.95), color='r', linestyle='dashed', linewidth=1,\n",
    "# #             label='95% Voronoi, {:.3}'.format(np.quantile(vor, 0.95)))\n",
    "# plt.legend()\n",
    "# plt.xlabel('{} per patch value'.format(_type))\n",
    "# plt.ylabel('# of patches')\n",
    "# plt.xlim(-0.01, 1.01)\n",
    "# plt.title('{} val {} histogram: DGCNN vs Voronoi'.format(_data,_type))\n",
    "# # plt.savefig('dgcnn_{}_hist.pdf'.format(_type_sh))\n",
    "# plt.show()"
   ]
  },
  {
   "cell_type": "code",
   "execution_count": 34,
   "metadata": {},
   "outputs": [
    {
     "data": {
      "text/plain": [
       "(6669,)"
      ]
     },
     "execution_count": 34,
     "metadata": {},
     "output_type": "execute_result"
    }
   ],
   "source": [
    "ba_v[sel].shape"
   ]
  },
  {
   "cell_type": "code",
   "execution_count": 33,
   "metadata": {},
   "outputs": [
    {
     "data": {
      "text/plain": [
       "6669"
      ]
     },
     "execution_count": 33,
     "metadata": {},
     "output_type": "execute_result"
    }
   ],
   "source": [
    "sel.sum()"
   ]
  },
  {
   "cell_type": "code",
   "execution_count": 26,
   "metadata": {},
   "outputs": [
    {
     "data": {
      "text/plain": [
       "(32768,)"
      ]
     },
     "execution_count": 26,
     "metadata": {},
     "output_type": "execute_result"
    }
   ],
   "source": [
    "iou_net.shape"
   ]
  },
  {
   "cell_type": "code",
   "execution_count": 49,
   "metadata": {},
   "outputs": [
    {
     "data": {
      "text/plain": [
       "6.0234612500784195"
      ]
     },
     "execution_count": 49,
     "metadata": {},
     "output_type": "execute_result"
    }
   ],
   "source": [
    "np.linalg.norm(poi, axis=1).max()"
   ]
  },
  {
   "cell_type": "code",
   "execution_count": 38,
   "metadata": {},
   "outputs": [
    {
     "data": {
      "text/plain": [
       "array([ 500, 1597,  536, ..., 2405, 4520, 4048])"
      ]
     },
     "execution_count": 38,
     "metadata": {},
     "output_type": "execute_result"
    }
   ],
   "source": [
    "np.argsort(iou_net[sel])"
   ]
  },
  {
   "cell_type": "code",
   "execution_count": 57,
   "metadata": {},
   "outputs": [
    {
     "data": {
      "text/plain": [
       "0.4765625"
      ]
     },
     "execution_count": 57,
     "metadata": {},
     "output_type": "execute_result"
    }
   ],
   "source": [
    "ba_net[sel][3830]"
   ]
  },
  {
   "cell_type": "code",
   "execution_count": 78,
   "metadata": {},
   "outputs": [
    {
     "name": "stdout",
     "output_type": "stream",
     "text": [
      "0\n",
      "1\n",
      "2\n",
      "3\n",
      "4\n",
      "5\n",
      "6\n",
      "7\n",
      "8\n",
      "9\n"
     ]
    }
   ],
   "source": [
    "mode = 'worst_sh_10_images'\n",
    "_type = 'DGCNN'\n",
    "for num,sample in enumerate(np.where(sel)[0][np.argsort(iou_sh[sel,7])][:10]):\n",
    "    print(num)\n",
    "\n",
    "    plot = k3d.plot()\n",
    "    poi = image_to_points(data[sample])\n",
    "#     poi = data[sample]\n",
    "    poi -= poi.mean(0)\n",
    "    poi /= np.linalg.norm(poi, axis=1).max()\n",
    "\n",
    "    ori_1 = [0,1,1]\n",
    "    ori_2 = [2.1,1,1]\n",
    "    ori_3 = [4.2,1,1]\n",
    "    ori_4 = [6.3,1,1]\n",
    "    vec = [0,0,0]\n",
    "    \n",
    "    seg = np.zeros_like(label[sample])\n",
    "    seg[label[sample] < 0.02] = 1\n",
    "\n",
    "    col_tr_thr = get_colors(label_thr[sample], cm.coolwarm)\n",
    "    pred = np.load('/gpfs/gpfs0/3ddl/sharp_features/old_experiments/baseline-image/predictions/val_'+str(sample)+'.npy')\n",
    "    pred_thr = np.zeros_like(pred)\n",
    "    pred_thr[pred < 0.02] = 1\n",
    "    col_pr_b_thr = get_colors(pred_thr, cm.coolwarm)\n",
    "#     col_pr = get_colors(seg, cm.coolwarm)\n",
    "    col_v_thr = get_colors(sh_thr[sample], cm.coolwarm)\n",
    "    \n",
    "    col_tr = get_colors(label[sample], cm.coolwarm_r)\n",
    "    col_pr_b = get_colors(pred, cm.coolwarm_r)\n",
    "#     col_pr = get_colors(seg, cm.coolwarm)\n",
    "    col_v = get_colors(sh[sample], cm.coolwarm)\n",
    "\n",
    "    data_shift = poi.copy()\n",
    "    data_shift[:,0] = data_shift[:,0]+2.1\n",
    "    data_shift_2 = poi.copy()\n",
    "    data_shift_2[:,0] = data_shift_2[:,0]+4.2\n",
    "#     data_shift_3 = data[sample].copy()\n",
    "#     data_shift_3[:,0] = data_shift_3[:,0]+6.3\n",
    "\n",
    "    points = k3d.points([poi, data_shift, data_shift_2],[col_tr, col_pr_b, col_v],\n",
    "                        point_size=0.05, shader='mesh', )\n",
    "    points_thr = k3d.points([poi, data_shift, data_shift_2],[col_tr_thr, col_pr_b_thr, col_v_thr],\n",
    "                        point_size=0.05, shader='mesh', )\n",
    "#     points1 = k3d.points(data[sample],col_pr_b, \n",
    "#                         point_size=0.05, shader='mesh', )\n",
    "#     points2 = k3d.points(poi,col_pr, \n",
    "#                         point_size=0.05, shader='mesh', )\n",
    "#     points3 = k3d.points(poi,col_v, \n",
    "#                         point_size=0.05, shader='mesh', )\n",
    "    vects_t = k3d.vectors(ori_1, vec, use_head=False, labels=['true'])\n",
    "    vects_pb = k3d.vectors(ori_2, vec, use_head=False, labels=['DGCNN, {:.3}'.format(iou_net[sample])])\n",
    "#     vects_p = k3d.vectors(ori_3, vec, use_head=False, labels=[_type])\n",
    "    vects_v = k3d.vectors(ori_3, vec, use_head=False, labels=['ShF, {:.3}'.format(iou_sh[sample,7])])\n",
    "\n",
    "    plot += points+points_thr+vects_t+vects_pb+vects_v\n",
    "    \n",
    "    f = open(\"%s_%s.html\" %(mode,sample), 'w')\n",
    "    f.write(plot.get_snapshot())\n",
    "    f.close()"
   ]
  },
  {
   "cell_type": "code",
   "execution_count": 77,
   "metadata": {},
   "outputs": [
    {
     "name": "stdout",
     "output_type": "stream",
     "text": [
      "0\n",
      "1\n",
      "2\n",
      "3\n",
      "4\n",
      "5\n",
      "6\n",
      "7\n",
      "8\n",
      "9\n"
     ]
    }
   ],
   "source": [
    "mode = 'best_sh_10_images'\n",
    "_type = 'DGCNN'\n",
    "for num,sample in enumerate(np.where(sel)[0][np.argsort(iou_sh[sel,7])][-10:]):\n",
    "    print(num)\n",
    "\n",
    "    plot = k3d.plot()\n",
    "    poi = image_to_points(data[sample])\n",
    "#     poi = data[sample]\n",
    "    poi -= poi.mean(0)\n",
    "    poi /= np.linalg.norm(poi, axis=1).max()\n",
    "\n",
    "    ori_1 = [0,1,1]\n",
    "    ori_2 = [2.1,1,1]\n",
    "    ori_3 = [4.2,1,1]\n",
    "    ori_4 = [6.3,1,1]\n",
    "    vec = [0,0,0]\n",
    "    \n",
    "    seg = np.zeros_like(label[sample])\n",
    "    seg[label[sample] < 0.02] = 1\n",
    "    \n",
    "    pred = np.load('/gpfs/gpfs0/3ddl/sharp_features/old_experiments/baseline-image/predictions/val_'+str(sample)+'.npy')\n",
    "    pred_thr = np.zeros_like(pred)\n",
    "    pred_thr[pred < 0.02] = 1\n",
    "\n",
    "    col_tr_thr = get_colors(label_thr[sample], cm.coolwarm)\n",
    "    col_pr_b_thr = get_colors(pred_thr, cm.coolwarm)\n",
    "#     col_pr = get_colors(seg, cm.coolwarm)\n",
    "    col_v_thr = get_colors(sh_thr[sample], cm.coolwarm)\n",
    "    \n",
    "    col_tr = get_colors(label[sample], cm.coolwarm_r)\n",
    "    col_pr_b = get_colors(pred, cm.coolwarm_r)\n",
    "#     col_pr = get_colors(seg, cm.coolwarm)\n",
    "    col_v = get_colors(sh[sample], cm.coolwarm)\n",
    "\n",
    "    data_shift = poi.copy()\n",
    "    data_shift[:,0] = data_shift[:,0]+2.1\n",
    "    data_shift_2 = poi.copy()\n",
    "    data_shift_2[:,0] = data_shift_2[:,0]+4.2\n",
    "#     data_shift_3 = data[sample].copy()\n",
    "#     data_shift_3[:,0] = data_shift_3[:,0]+6.3\n",
    "\n",
    "    points = k3d.points([poi, data_shift, data_shift_2],[col_tr, col_pr_b, col_v],\n",
    "                        point_size=0.05, shader='mesh', )\n",
    "    points_thr = k3d.points([poi, data_shift, data_shift_2],[col_tr_thr, col_pr_b_thr, col_v_thr],\n",
    "                        point_size=0.05, shader='mesh', )\n",
    "#     points1 = k3d.points(data[sample],col_pr_b, \n",
    "#                         point_size=0.05, shader='mesh', )\n",
    "#     points2 = k3d.points(poi,col_pr, \n",
    "#                         point_size=0.05, shader='mesh', )\n",
    "#     points3 = k3d.points(poi,col_v, \n",
    "#                         point_size=0.05, shader='mesh', )\n",
    "    vects_t = k3d.vectors(ori_1, vec, use_head=False, labels=['true'])\n",
    "    vects_pb = k3d.vectors(ori_2, vec, use_head=False, labels=['DGCNN, {:.3}'.format(iou_net[sample])])\n",
    "#     vects_p = k3d.vectors(ori_3, vec, use_head=False, labels=[_type])\n",
    "    vects_v = k3d.vectors(ori_3, vec, use_head=False, labels=['ShF, {:.3}'.format(iou_sh[sample,7])])\n",
    "\n",
    "    plot += points+points_thr+vects_t+vects_pb+vects_v\n",
    "    \n",
    "    f = open(\"%s_%s.html\" %(mode,sample), 'w')\n",
    "    f.write(plot.get_snapshot())\n",
    "    f.close()"
   ]
  },
  {
   "cell_type": "code",
   "execution_count": null,
   "metadata": {},
   "outputs": [],
   "source": [
    "for i in range(2):\n",
    "    with h5py.File('tmp/val_with_normals_and_voronoi/train_'+str(i)+'.hdf5', 'r') as f:\n",
    "        v = f['voronoi'][:]\n",
    "    with h5py.File('tmp/val/train_'+str(i)+'.hdf5', 'a') as f:\n",
    "        f.create_dataset(\"voronoi\", data=v)"
   ]
  },
  {
   "cell_type": "code",
   "execution_count": 90,
   "metadata": {},
   "outputs": [
    {
     "data": {
      "text/plain": [
       "(32768, 4096)"
      ]
     },
     "execution_count": 90,
     "metadata": {},
     "output_type": "execute_result"
    }
   ],
   "source": [
    "v.shape"
   ]
  },
  {
   "cell_type": "code",
   "execution_count": 3,
   "metadata": {},
   "outputs": [
    {
     "name": "stdout",
     "output_type": "stream",
     "text": [
      "(16384, 4096, 3)\n"
     ]
    }
   ],
   "source": [
    "import h5py\n",
    "with h5py.File('data/v2/files/high_res/0.0/images/val/train_0.hdf5', 'r') as f:\n",
    "    print(f['normals_estimation_10'].shape)"
   ]
  },
  {
   "cell_type": "code",
   "execution_count": 2,
   "metadata": {},
   "outputs": [],
   "source": [
    "def image_to_points(image):\n",
    "    image_height, image_width = 64, 64\n",
    "    resolution_3d = 0.02\n",
    "    screen_aspect_ratio = 1\n",
    "\n",
    "    rays_screen_coords = np.mgrid[0:image_height, 0:image_width].reshape(\n",
    "            2, image_height * image_width).T\n",
    "\n",
    "    rays_origins = (rays_screen_coords / np.array([[image_height, image_width]]))   # [h, w, 2], in [0, 1]\n",
    "    factor = image_height / 2 * resolution_3d\n",
    "    rays_origins[:, 0] = (-2 * rays_origins[:, 0] + 1) * factor  # to [-1, 1] + aspect transform\n",
    "    rays_origins[:, 1] = (-2 * rays_origins[:, 1] + 1) * factor * screen_aspect_ratio\n",
    "    rays_origins = np.concatenate([\n",
    "        rays_origins,\n",
    "        np.zeros_like(rays_origins[:, [0]])\n",
    "    ], axis=1)\n",
    "\n",
    "    i = np.where(image.ravel() != 0)[0]\n",
    "    points = np.zeros((len(i), 3))\n",
    "    points[:, 0] = rays_origins[i, 0]\n",
    "    points[:, 1] = rays_origins[i, 1]\n",
    "    points[:, 2] = image.ravel()[i]\n",
    "    return points"
   ]
  },
  {
   "cell_type": "code",
   "execution_count": 3,
   "metadata": {},
   "outputs": [
    {
     "name": "stdout",
     "output_type": "stream",
     "text": [
      "(1, 4096)\n"
     ]
    }
   ],
   "source": [
    "with h5py.File('voronoi/v2/high_res/0.0/images/test.hdf5', 'r') as f:\n",
    "    print(f['distances'][:].shape)"
   ]
  },
  {
   "cell_type": "code",
   "execution_count": 44,
   "metadata": {},
   "outputs": [],
   "source": [
    "# noise = '0.0'\n",
    "\n",
    "with h5py.File('/gpfs/gpfs0/3ddl/sharp_features/data_v3_cvpr/images/med_res.json/0.0/train/train_0.hdf5', 'r') as f:\n",
    "    data = f['image'][:100]\n",
    "    \n",
    "with h5py.File('data/v2/files/med_res/images/v_selection.hdf5', 'w') as f:\n",
    "    f.create_dataset('image', data=data)"
   ]
  },
  {
   "cell_type": "code",
   "execution_count": 37,
   "metadata": {},
   "outputs": [],
   "source": [
    "with h5py.File('2.hdf5', 'w') as f:\n",
    "    f.create_dataset('points', data=data)"
   ]
  },
  {
   "cell_type": "code",
   "execution_count": 38,
   "metadata": {},
   "outputs": [
    {
     "name": "stdout",
     "output_type": "stream",
     "text": [
      "[]\n"
     ]
    }
   ],
   "source": [
    "with h5py.File('2.hdf5', 'w') as f:\n",
    "    print(list(f.keys()))"
   ]
  },
  {
   "cell_type": "code",
   "execution_count": null,
   "metadata": {},
   "outputs": [],
   "source": []
  }
 ],
 "metadata": {
  "kernelspec": {
   "display_name": "Python 3",
   "language": "python",
   "name": "python3"
  },
  "language_info": {
   "codemirror_mode": {
    "name": "ipython",
    "version": 3
   },
   "file_extension": ".py",
   "mimetype": "text/x-python",
   "name": "python",
   "nbconvert_exporter": "python",
   "pygments_lexer": "ipython3",
   "version": "3.8.5"
  }
 },
 "nbformat": 4,
 "nbformat_minor": 4
}
