{
 "cells": [
  {
   "cell_type": "code",
   "execution_count": 33,
   "metadata": {},
   "outputs": [],
   "source": [
    "import h5py\n",
    "import numpy as np\n",
    "\n",
    "def load_h5(filename, data_field):\n",
    "    with h5py.File(filename) as f:\n",
    "        assert isinstance(data_field,str) \n",
    "        assert data_field\n",
    "        assert data_field in list(f.keys()), 'Availabel keys {}'.format(f.keys()) \n",
    "        data = f[data_field][:] # return array\n",
    "    return data"
   ]
  },
  {
   "cell_type": "code",
   "execution_count": 2,
   "metadata": {},
   "outputs": [],
   "source": [
    "import os\n",
    "os.chdir('..')"
   ]
  },
  {
   "cell_type": "code",
   "execution_count": 3,
   "metadata": {},
   "outputs": [
    {
     "name": "stdout",
     "output_type": "stream",
     "text": [
      "/home/ckingkan/codes/data/abc/raw/abc_05_sharp_1024_patches_normalized_4pps_selected_short_curves_surfaces_val.hdf5\n"
     ]
    }
   ],
   "source": [
    "filename = os.path.join(os.getcwd(), 'data', 'abc','raw/abc_05_sharp_1024_patches_normalized_4pps_selected_short_curves_surfaces_val.hdf5')\n",
    "print(filename)"
   ]
  },
  {
   "cell_type": "code",
   "execution_count": 34,
   "metadata": {},
   "outputs": [
    {
     "data": {
      "text/plain": [
       "(814, 1024, 3)"
      ]
     },
     "execution_count": 34,
     "metadata": {},
     "output_type": "execute_result"
    }
   ],
   "source": [
    "normalized_data = load_h5(filename, 'data')\n",
    "normalized_data.shape"
   ]
  },
  {
   "cell_type": "code",
   "execution_count": 36,
   "metadata": {},
   "outputs": [
    {
     "data": {
      "text/plain": [
       "(814, 1024, 3)"
      ]
     },
     "execution_count": 36,
     "metadata": {},
     "output_type": "execute_result"
    }
   ],
   "source": [
    "noisy_data = load_h5(filename, 'data_noisy_001')\n",
    "noisy_data.shape"
   ]
  },
  {
   "cell_type": "code",
   "execution_count": 37,
   "metadata": {},
   "outputs": [],
   "source": [
    "norm_pc = normalized_data[0]\n",
    "noisy_pc = noisy_data[0]"
   ]
  },
  {
   "cell_type": "code",
   "execution_count": 38,
   "metadata": {},
   "outputs": [
    {
     "data": {
      "text/plain": [
       "array([[-5.35800904e-04, -2.15805819e-03,  1.13202323e-04],\n",
       "       [-1.26690180e-03,  8.46089731e-05, -5.53690320e-04],\n",
       "       [-2.57615410e-03,  2.56282289e-04, -5.06799073e-05],\n",
       "       ...,\n",
       "       [ 1.38954583e-03, -1.11885117e-04, -2.16793904e-03],\n",
       "       [ 7.90527979e-04, -8.83322851e-04, -3.38068052e-04],\n",
       "       [-8.22931554e-04, -1.12500830e-03,  5.69554830e-04]])"
      ]
     },
     "execution_count": 38,
     "metadata": {},
     "output_type": "execute_result"
    }
   ],
   "source": [
    "norm_pc - noisy_pc"
   ]
  },
  {
   "cell_type": "code",
   "execution_count": 41,
   "metadata": {},
   "outputs": [
    {
     "data": {
      "text/plain": [
       "(814, 1024, 3)"
      ]
     },
     "execution_count": 41,
     "metadata": {},
     "output_type": "execute_result"
    }
   ],
   "source": [
    "org_data = load_h5(filename, 'points_original')\n",
    "org_data.shape"
   ]
  },
  {
   "cell_type": "code",
   "execution_count": null,
   "metadata": {},
   "outputs": [],
   "source": []
  }
 ],
 "metadata": {
  "kernelspec": {
   "display_name": "Python 3",
   "language": "python",
   "name": "python3"
  },
  "language_info": {
   "codemirror_mode": {
    "name": "ipython",
    "version": 3
   },
   "file_extension": ".py",
   "mimetype": "text/x-python",
   "name": "python",
   "nbconvert_exporter": "python",
   "pygments_lexer": "ipython3",
   "version": "3.7.3"
  }
 },
 "nbformat": 4,
 "nbformat_minor": 2
}
